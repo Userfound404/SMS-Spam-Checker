{
 "cells": [
  {
   "cell_type": "code",
   "execution_count": 1,
   "id": "95826567",
   "metadata": {},
   "outputs": [],
   "source": [
    "import numpy as np\n",
    "import pandas as pd"
   ]
  },
  {
   "cell_type": "code",
   "execution_count": 20,
   "id": "14e1b29e",
   "metadata": {},
   "outputs": [
    {
     "name": "stdout",
     "output_type": "stream",
     "text": [
      "Requirement already satisfied: nltk in c:\\users\\adithya\\anaconda3\\lib\\site-packages (3.6.5)\n",
      "Requirement already satisfied: click in c:\\users\\adithya\\anaconda3\\lib\\site-packages (from nltk) (7.1.2)\n",
      "Requirement already satisfied: joblib in c:\\users\\adithya\\anaconda3\\lib\\site-packages (from nltk) (1.1.0)\n",
      "Requirement already satisfied: regex>=2021.8.3 in c:\\users\\adithya\\anaconda3\\lib\\site-packages (from nltk) (2021.8.3)\n",
      "Requirement already satisfied: tqdm in c:\\users\\adithya\\anaconda3\\lib\\site-packages (from nltk) (4.62.3)\n",
      "Requirement already satisfied: colorama in c:\\users\\adithya\\anaconda3\\lib\\site-packages (from tqdm->nltk) (0.4.4)\n"
     ]
    }
   ],
   "source": [
    "!pip install nltk"
   ]
  },
  {
   "cell_type": "code",
   "execution_count": 2,
   "id": "4a266546",
   "metadata": {},
   "outputs": [],
   "source": [
    "df = pd.read_csv('spam_data.csv')"
   ]
  },
  {
   "cell_type": "code",
   "execution_count": 3,
   "id": "33240744",
   "metadata": {},
   "outputs": [
    {
     "data": {
      "text/html": [
       "<div>\n",
       "<style scoped>\n",
       "    .dataframe tbody tr th:only-of-type {\n",
       "        vertical-align: middle;\n",
       "    }\n",
       "\n",
       "    .dataframe tbody tr th {\n",
       "        vertical-align: top;\n",
       "    }\n",
       "\n",
       "    .dataframe thead th {\n",
       "        text-align: right;\n",
       "    }\n",
       "</style>\n",
       "<table border=\"1\" class=\"dataframe\">\n",
       "  <thead>\n",
       "    <tr style=\"text-align: right;\">\n",
       "      <th></th>\n",
       "      <th>v1</th>\n",
       "      <th>v2</th>\n",
       "      <th>Unnamed: 2</th>\n",
       "      <th>Unnamed: 3</th>\n",
       "      <th>Unnamed: 4</th>\n",
       "    </tr>\n",
       "  </thead>\n",
       "  <tbody>\n",
       "    <tr>\n",
       "      <th>1100</th>\n",
       "      <td>ham</td>\n",
       "      <td>You busy or can I come by at some point and fi...</td>\n",
       "      <td>NaN</td>\n",
       "      <td>NaN</td>\n",
       "      <td>NaN</td>\n",
       "    </tr>\n",
       "    <tr>\n",
       "      <th>2974</th>\n",
       "      <td>ham</td>\n",
       "      <td>Don't worry, * is easy once have ingredients!</td>\n",
       "      <td>NaN</td>\n",
       "      <td>NaN</td>\n",
       "      <td>NaN</td>\n",
       "    </tr>\n",
       "    <tr>\n",
       "      <th>993</th>\n",
       "      <td>ham</td>\n",
       "      <td>The Xmas story is peace.. The Xmas msg is love...</td>\n",
       "      <td>NaN</td>\n",
       "      <td>NaN</td>\n",
       "      <td>NaN</td>\n",
       "    </tr>\n",
       "    <tr>\n",
       "      <th>22</th>\n",
       "      <td>ham</td>\n",
       "      <td>So �_ pay first lar... Then when is da stock c...</td>\n",
       "      <td>NaN</td>\n",
       "      <td>NaN</td>\n",
       "      <td>NaN</td>\n",
       "    </tr>\n",
       "    <tr>\n",
       "      <th>1645</th>\n",
       "      <td>ham</td>\n",
       "      <td>I.ll post her out l8r. In class</td>\n",
       "      <td>NaN</td>\n",
       "      <td>NaN</td>\n",
       "      <td>NaN</td>\n",
       "    </tr>\n",
       "  </tbody>\n",
       "</table>\n",
       "</div>"
      ],
      "text/plain": [
       "       v1                                                 v2 Unnamed: 2  \\\n",
       "1100  ham  You busy or can I come by at some point and fi...        NaN   \n",
       "2974  ham      Don't worry, * is easy once have ingredients!        NaN   \n",
       "993   ham  The Xmas story is peace.. The Xmas msg is love...        NaN   \n",
       "22    ham  So �_ pay first lar... Then when is da stock c...        NaN   \n",
       "1645  ham                    I.ll post her out l8r. In class        NaN   \n",
       "\n",
       "     Unnamed: 3 Unnamed: 4  \n",
       "1100        NaN        NaN  \n",
       "2974        NaN        NaN  \n",
       "993         NaN        NaN  \n",
       "22          NaN        NaN  \n",
       "1645        NaN        NaN  "
      ]
     },
     "execution_count": 3,
     "metadata": {},
     "output_type": "execute_result"
    }
   ],
   "source": [
    "df.sample(5)"
   ]
  },
  {
   "cell_type": "code",
   "execution_count": 4,
   "id": "4ecdc755",
   "metadata": {},
   "outputs": [
    {
     "data": {
      "text/plain": [
       "(5572, 5)"
      ]
     },
     "execution_count": 4,
     "metadata": {},
     "output_type": "execute_result"
    }
   ],
   "source": [
    "df.shape"
   ]
  },
  {
   "cell_type": "markdown",
   "id": "a4a30d4a",
   "metadata": {},
   "source": [
    "## 1. Data cleaning\n",
    "## 2. EDA\n",
    "## 3. Text Preprocessing\n",
    "## 4. Model building\n",
    "## 5. Evaluation\n",
    "## 6. Improvement\n",
    "## 7. Website\n",
    "## 8. Deploy"
   ]
  },
  {
   "cell_type": "markdown",
   "id": "35d3f23f",
   "metadata": {},
   "source": [
    "# Data Cleaning\n"
   ]
  },
  {
   "cell_type": "code",
   "execution_count": 5,
   "id": "94761219",
   "metadata": {},
   "outputs": [
    {
     "name": "stdout",
     "output_type": "stream",
     "text": [
      "<class 'pandas.core.frame.DataFrame'>\n",
      "RangeIndex: 5572 entries, 0 to 5571\n",
      "Data columns (total 5 columns):\n",
      " #   Column      Non-Null Count  Dtype \n",
      "---  ------      --------------  ----- \n",
      " 0   v1          5572 non-null   object\n",
      " 1   v2          5572 non-null   object\n",
      " 2   Unnamed: 2  50 non-null     object\n",
      " 3   Unnamed: 3  12 non-null     object\n",
      " 4   Unnamed: 4  6 non-null      object\n",
      "dtypes: object(5)\n",
      "memory usage: 217.8+ KB\n"
     ]
    }
   ],
   "source": [
    "df.info()"
   ]
  },
  {
   "cell_type": "code",
   "execution_count": 6,
   "id": "bc27c32c",
   "metadata": {},
   "outputs": [],
   "source": [
    "df.drop(columns=['Unnamed: 2','Unnamed: 3','Unnamed: 4'],inplace=True)"
   ]
  },
  {
   "cell_type": "code",
   "execution_count": 7,
   "id": "2f836d0e",
   "metadata": {},
   "outputs": [
    {
     "data": {
      "text/html": [
       "<div>\n",
       "<style scoped>\n",
       "    .dataframe tbody tr th:only-of-type {\n",
       "        vertical-align: middle;\n",
       "    }\n",
       "\n",
       "    .dataframe tbody tr th {\n",
       "        vertical-align: top;\n",
       "    }\n",
       "\n",
       "    .dataframe thead th {\n",
       "        text-align: right;\n",
       "    }\n",
       "</style>\n",
       "<table border=\"1\" class=\"dataframe\">\n",
       "  <thead>\n",
       "    <tr style=\"text-align: right;\">\n",
       "      <th></th>\n",
       "      <th>v1</th>\n",
       "      <th>v2</th>\n",
       "    </tr>\n",
       "  </thead>\n",
       "  <tbody>\n",
       "    <tr>\n",
       "      <th>1109</th>\n",
       "      <td>ham</td>\n",
       "      <td>S s..first time..dhoni rocks...</td>\n",
       "    </tr>\n",
       "    <tr>\n",
       "      <th>1213</th>\n",
       "      <td>ham</td>\n",
       "      <td>Yeah, probably but not sure. Ilol let u know, ...</td>\n",
       "    </tr>\n",
       "    <tr>\n",
       "      <th>5171</th>\n",
       "      <td>ham</td>\n",
       "      <td>Oh k. . I will come tomorrow</td>\n",
       "    </tr>\n",
       "    <tr>\n",
       "      <th>1968</th>\n",
       "      <td>ham</td>\n",
       "      <td>2 laptop... I noe infra but too slow lar... I ...</td>\n",
       "    </tr>\n",
       "    <tr>\n",
       "      <th>3762</th>\n",
       "      <td>ham</td>\n",
       "      <td>K.i will send in  &amp;lt;#&amp;gt;  min:)</td>\n",
       "    </tr>\n",
       "  </tbody>\n",
       "</table>\n",
       "</div>"
      ],
      "text/plain": [
       "       v1                                                 v2\n",
       "1109  ham                    S s..first time..dhoni rocks...\n",
       "1213  ham  Yeah, probably but not sure. Ilol let u know, ...\n",
       "5171  ham                       Oh k. . I will come tomorrow\n",
       "1968  ham  2 laptop... I noe infra but too slow lar... I ...\n",
       "3762  ham                 K.i will send in  &lt;#&gt;  min:)"
      ]
     },
     "execution_count": 7,
     "metadata": {},
     "output_type": "execute_result"
    }
   ],
   "source": [
    "df.sample(5)"
   ]
  },
  {
   "cell_type": "code",
   "execution_count": 8,
   "id": "02fe4584",
   "metadata": {},
   "outputs": [
    {
     "data": {
      "text/html": [
       "<div>\n",
       "<style scoped>\n",
       "    .dataframe tbody tr th:only-of-type {\n",
       "        vertical-align: middle;\n",
       "    }\n",
       "\n",
       "    .dataframe tbody tr th {\n",
       "        vertical-align: top;\n",
       "    }\n",
       "\n",
       "    .dataframe thead th {\n",
       "        text-align: right;\n",
       "    }\n",
       "</style>\n",
       "<table border=\"1\" class=\"dataframe\">\n",
       "  <thead>\n",
       "    <tr style=\"text-align: right;\">\n",
       "      <th></th>\n",
       "      <th>target</th>\n",
       "      <th>text</th>\n",
       "    </tr>\n",
       "  </thead>\n",
       "  <tbody>\n",
       "    <tr>\n",
       "      <th>4889</th>\n",
       "      <td>ham</td>\n",
       "      <td>Sounds like there could be a lot of time spent...</td>\n",
       "    </tr>\n",
       "    <tr>\n",
       "      <th>852</th>\n",
       "      <td>ham</td>\n",
       "      <td>No da if you run that it activate the full ver...</td>\n",
       "    </tr>\n",
       "    <tr>\n",
       "      <th>3069</th>\n",
       "      <td>ham</td>\n",
       "      <td>I'm now but have to wait till 2 for the bus to...</td>\n",
       "    </tr>\n",
       "    <tr>\n",
       "      <th>2125</th>\n",
       "      <td>ham</td>\n",
       "      <td>Sorry im getting up now, feel really bad- tota...</td>\n",
       "    </tr>\n",
       "    <tr>\n",
       "      <th>4950</th>\n",
       "      <td>ham</td>\n",
       "      <td>hi baby im sat on the bloody bus at the mo and...</td>\n",
       "    </tr>\n",
       "  </tbody>\n",
       "</table>\n",
       "</div>"
      ],
      "text/plain": [
       "     target                                               text\n",
       "4889    ham  Sounds like there could be a lot of time spent...\n",
       "852     ham  No da if you run that it activate the full ver...\n",
       "3069    ham  I'm now but have to wait till 2 for the bus to...\n",
       "2125    ham  Sorry im getting up now, feel really bad- tota...\n",
       "4950    ham  hi baby im sat on the bloody bus at the mo and..."
      ]
     },
     "execution_count": 8,
     "metadata": {},
     "output_type": "execute_result"
    }
   ],
   "source": [
    "df.rename(columns={'v1':'target','v2':'text'},inplace=True)\n",
    "df.sample(5)"
   ]
  },
  {
   "cell_type": "code",
   "execution_count": 9,
   "id": "9da4bcdb",
   "metadata": {},
   "outputs": [],
   "source": [
    "from sklearn.preprocessing import LabelEncoder\n",
    "encoder = LabelEncoder()"
   ]
  },
  {
   "cell_type": "code",
   "execution_count": 10,
   "id": "7d52fa26",
   "metadata": {},
   "outputs": [],
   "source": [
    "df['target'] = encoder.fit_transform(df['target'])"
   ]
  },
  {
   "cell_type": "code",
   "execution_count": 11,
   "id": "5193b57e",
   "metadata": {},
   "outputs": [
    {
     "data": {
      "text/html": [
       "<div>\n",
       "<style scoped>\n",
       "    .dataframe tbody tr th:only-of-type {\n",
       "        vertical-align: middle;\n",
       "    }\n",
       "\n",
       "    .dataframe tbody tr th {\n",
       "        vertical-align: top;\n",
       "    }\n",
       "\n",
       "    .dataframe thead th {\n",
       "        text-align: right;\n",
       "    }\n",
       "</style>\n",
       "<table border=\"1\" class=\"dataframe\">\n",
       "  <thead>\n",
       "    <tr style=\"text-align: right;\">\n",
       "      <th></th>\n",
       "      <th>target</th>\n",
       "      <th>text</th>\n",
       "    </tr>\n",
       "  </thead>\n",
       "  <tbody>\n",
       "    <tr>\n",
       "      <th>0</th>\n",
       "      <td>0</td>\n",
       "      <td>Go until jurong point, crazy.. Available only ...</td>\n",
       "    </tr>\n",
       "    <tr>\n",
       "      <th>1</th>\n",
       "      <td>0</td>\n",
       "      <td>Ok lar... Joking wif u oni...</td>\n",
       "    </tr>\n",
       "    <tr>\n",
       "      <th>2</th>\n",
       "      <td>1</td>\n",
       "      <td>Free entry in 2 a wkly comp to win FA Cup fina...</td>\n",
       "    </tr>\n",
       "    <tr>\n",
       "      <th>3</th>\n",
       "      <td>0</td>\n",
       "      <td>U dun say so early hor... U c already then say...</td>\n",
       "    </tr>\n",
       "    <tr>\n",
       "      <th>4</th>\n",
       "      <td>0</td>\n",
       "      <td>Nah I don't think he goes to usf, he lives aro...</td>\n",
       "    </tr>\n",
       "  </tbody>\n",
       "</table>\n",
       "</div>"
      ],
      "text/plain": [
       "   target                                               text\n",
       "0       0  Go until jurong point, crazy.. Available only ...\n",
       "1       0                      Ok lar... Joking wif u oni...\n",
       "2       1  Free entry in 2 a wkly comp to win FA Cup fina...\n",
       "3       0  U dun say so early hor... U c already then say...\n",
       "4       0  Nah I don't think he goes to usf, he lives aro..."
      ]
     },
     "execution_count": 11,
     "metadata": {},
     "output_type": "execute_result"
    }
   ],
   "source": [
    "df.head()"
   ]
  },
  {
   "cell_type": "code",
   "execution_count": 12,
   "id": "033d36a4",
   "metadata": {},
   "outputs": [
    {
     "data": {
      "text/plain": [
       "target    0\n",
       "text      0\n",
       "dtype: int64"
      ]
     },
     "execution_count": 12,
     "metadata": {},
     "output_type": "execute_result"
    }
   ],
   "source": [
    "# missing values\n",
    "df.isnull().sum()"
   ]
  },
  {
   "cell_type": "code",
   "execution_count": 13,
   "id": "a7e2f378",
   "metadata": {},
   "outputs": [
    {
     "data": {
      "text/plain": [
       "409"
      ]
     },
     "execution_count": 13,
     "metadata": {},
     "output_type": "execute_result"
    }
   ],
   "source": [
    "# check for duplicate values\n",
    "df.duplicated().sum()"
   ]
  },
  {
   "cell_type": "code",
   "execution_count": 14,
   "id": "f5c26f65",
   "metadata": {},
   "outputs": [],
   "source": [
    "# remove duplicates\n",
    "df = df.drop_duplicates(keep='first')"
   ]
  },
  {
   "cell_type": "code",
   "execution_count": 15,
   "id": "7a524a14",
   "metadata": {},
   "outputs": [
    {
     "data": {
      "text/plain": [
       "0"
      ]
     },
     "execution_count": 15,
     "metadata": {},
     "output_type": "execute_result"
    }
   ],
   "source": [
    "df.duplicated().sum()"
   ]
  },
  {
   "cell_type": "code",
   "execution_count": 16,
   "id": "d19419ae",
   "metadata": {},
   "outputs": [
    {
     "data": {
      "text/plain": [
       "(5163, 2)"
      ]
     },
     "execution_count": 16,
     "metadata": {},
     "output_type": "execute_result"
    }
   ],
   "source": [
    "df.shape"
   ]
  },
  {
   "cell_type": "markdown",
   "id": "88990f39",
   "metadata": {},
   "source": [
    "# EDA"
   ]
  },
  {
   "cell_type": "code",
   "execution_count": 17,
   "id": "f03efed2",
   "metadata": {},
   "outputs": [
    {
     "data": {
      "text/html": [
       "<div>\n",
       "<style scoped>\n",
       "    .dataframe tbody tr th:only-of-type {\n",
       "        vertical-align: middle;\n",
       "    }\n",
       "\n",
       "    .dataframe tbody tr th {\n",
       "        vertical-align: top;\n",
       "    }\n",
       "\n",
       "    .dataframe thead th {\n",
       "        text-align: right;\n",
       "    }\n",
       "</style>\n",
       "<table border=\"1\" class=\"dataframe\">\n",
       "  <thead>\n",
       "    <tr style=\"text-align: right;\">\n",
       "      <th></th>\n",
       "      <th>target</th>\n",
       "      <th>text</th>\n",
       "    </tr>\n",
       "  </thead>\n",
       "  <tbody>\n",
       "    <tr>\n",
       "      <th>0</th>\n",
       "      <td>0</td>\n",
       "      <td>Go until jurong point, crazy.. Available only ...</td>\n",
       "    </tr>\n",
       "    <tr>\n",
       "      <th>1</th>\n",
       "      <td>0</td>\n",
       "      <td>Ok lar... Joking wif u oni...</td>\n",
       "    </tr>\n",
       "    <tr>\n",
       "      <th>2</th>\n",
       "      <td>1</td>\n",
       "      <td>Free entry in 2 a wkly comp to win FA Cup fina...</td>\n",
       "    </tr>\n",
       "    <tr>\n",
       "      <th>3</th>\n",
       "      <td>0</td>\n",
       "      <td>U dun say so early hor... U c already then say...</td>\n",
       "    </tr>\n",
       "    <tr>\n",
       "      <th>4</th>\n",
       "      <td>0</td>\n",
       "      <td>Nah I don't think he goes to usf, he lives aro...</td>\n",
       "    </tr>\n",
       "  </tbody>\n",
       "</table>\n",
       "</div>"
      ],
      "text/plain": [
       "   target                                               text\n",
       "0       0  Go until jurong point, crazy.. Available only ...\n",
       "1       0                      Ok lar... Joking wif u oni...\n",
       "2       1  Free entry in 2 a wkly comp to win FA Cup fina...\n",
       "3       0  U dun say so early hor... U c already then say...\n",
       "4       0  Nah I don't think he goes to usf, he lives aro..."
      ]
     },
     "execution_count": 17,
     "metadata": {},
     "output_type": "execute_result"
    }
   ],
   "source": [
    "#exploratory data analysis\n",
    "df.head()"
   ]
  },
  {
   "cell_type": "code",
   "execution_count": 18,
   "id": "86773051",
   "metadata": {},
   "outputs": [
    {
     "data": {
      "text/plain": [
       "0    4516\n",
       "1     647\n",
       "Name: target, dtype: int64"
      ]
     },
     "execution_count": 18,
     "metadata": {},
     "output_type": "execute_result"
    }
   ],
   "source": [
    "df['target'].value_counts()"
   ]
  },
  {
   "cell_type": "code",
   "execution_count": 19,
   "id": "dcfed08a",
   "metadata": {},
   "outputs": [
    {
     "data": {
      "image/png": "[encoded data removed]",
      "text/plain": [
       "<Figure size 432x288 with 1 Axes>"
      ]
     },
     "metadata": {},
     "output_type": "display_data"
    }
   ],
   "source": [
    "import matplotlib.pyplot as plt\n",
    "plt.pie(df['target'].value_counts(), labels=['ham','spam'],autopct=\"%0.2f\")\n",
    "plt.show()"
   ]
  },
  {
   "cell_type": "code",
   "execution_count": 21,
   "id": "792418b3",
   "metadata": {},
   "outputs": [],
   "source": [
    "import nltk"
   ]
  },
  {
   "cell_type": "code",
   "execution_count": 22,
   "id": "558f527b",
   "metadata": {},
   "outputs": [
    {
     "name": "stderr",
     "output_type": "stream",
     "text": [
      "[nltk_data] Downloading package punkt to\n",
      "[nltk_data]     C:\\Users\\Adithya\\AppData\\Roaming\\nltk_data...\n",
      "[nltk_data]   Unzipping tokenizers\\punkt.zip.\n"
     ]
    },
    {
     "data": {
      "text/plain": [
       "True"
      ]
     },
     "execution_count": 22,
     "metadata": {},
     "output_type": "execute_result"
    }
   ],
   "source": [
    "nltk.download('punkt')"
   ]
  },
  {
   "cell_type": "code",
   "execution_count": 23,
   "id": "aac5cb09",
   "metadata": {},
   "outputs": [],
   "source": [
    "df['num_characters'] = df['text'].apply(len)"
   ]
  },
  {
   "cell_type": "code",
   "execution_count": 24,
   "id": "abac6f49",
   "metadata": {},
   "outputs": [
    {
     "data": {
      "text/html": [
       "<div>\n",
       "<style scoped>\n",
       "    .dataframe tbody tr th:only-of-type {\n",
       "        vertical-align: middle;\n",
       "    }\n",
       "\n",
       "    .dataframe tbody tr th {\n",
       "        vertical-align: top;\n",
       "    }\n",
       "\n",
       "    .dataframe thead th {\n",
       "        text-align: right;\n",
       "    }\n",
       "</style>\n",
       "<table border=\"1\" class=\"dataframe\">\n",
       "  <thead>\n",
       "    <tr style=\"text-align: right;\">\n",
       "      <th></th>\n",
       "      <th>target</th>\n",
       "      <th>text</th>\n",
       "      <th>num_characters</th>\n",
       "    </tr>\n",
       "  </thead>\n",
       "  <tbody>\n",
       "    <tr>\n",
       "      <th>0</th>\n",
       "      <td>0</td>\n",
       "      <td>Go until jurong point, crazy.. Available only ...</td>\n",
       "      <td>111</td>\n",
       "    </tr>\n",
       "    <tr>\n",
       "      <th>1</th>\n",
       "      <td>0</td>\n",
       "      <td>Ok lar... Joking wif u oni...</td>\n",
       "      <td>29</td>\n",
       "    </tr>\n",
       "    <tr>\n",
       "      <th>2</th>\n",
       "      <td>1</td>\n",
       "      <td>Free entry in 2 a wkly comp to win FA Cup fina...</td>\n",
       "      <td>155</td>\n",
       "    </tr>\n",
       "    <tr>\n",
       "      <th>3</th>\n",
       "      <td>0</td>\n",
       "      <td>U dun say so early hor... U c already then say...</td>\n",
       "      <td>49</td>\n",
       "    </tr>\n",
       "    <tr>\n",
       "      <th>4</th>\n",
       "      <td>0</td>\n",
       "      <td>Nah I don't think he goes to usf, he lives aro...</td>\n",
       "      <td>61</td>\n",
       "    </tr>\n",
       "  </tbody>\n",
       "</table>\n",
       "</div>"
      ],
      "text/plain": [
       "   target                                               text  num_characters\n",
       "0       0  Go until jurong point, crazy.. Available only ...             111\n",
       "1       0                      Ok lar... Joking wif u oni...              29\n",
       "2       1  Free entry in 2 a wkly comp to win FA Cup fina...             155\n",
       "3       0  U dun say so early hor... U c already then say...              49\n",
       "4       0  Nah I don't think he goes to usf, he lives aro...              61"
      ]
     },
     "execution_count": 24,
     "metadata": {},
     "output_type": "execute_result"
    }
   ],
   "source": [
    "df.head()"
   ]
  },
  {
   "cell_type": "code",
   "execution_count": 26,
   "id": "030a267c",
   "metadata": {},
   "outputs": [],
   "source": [
    "# num of words\n",
    "df['num_words'] = df['text'].apply(lambda x:len(nltk.word_tokenize(x)))"
   ]
  },
  {
   "cell_type": "code",
   "execution_count": 27,
   "id": "c303cc2a",
   "metadata": {},
   "outputs": [
    {
     "data": {
      "text/html": [
       "<div>\n",
       "<style scoped>\n",
       "    .dataframe tbody tr th:only-of-type {\n",
       "        vertical-align: middle;\n",
       "    }\n",
       "\n",
       "    .dataframe tbody tr th {\n",
       "        vertical-align: top;\n",
       "    }\n",
       "\n",
       "    .dataframe thead th {\n",
       "        text-align: right;\n",
       "    }\n",
       "</style>\n",
       "<table border=\"1\" class=\"dataframe\">\n",
       "  <thead>\n",
       "    <tr style=\"text-align: right;\">\n",
       "      <th></th>\n",
       "      <th>target</th>\n",
       "      <th>text</th>\n",
       "      <th>num_characters</th>\n",
       "      <th>num_words</th>\n",
       "    </tr>\n",
       "  </thead>\n",
       "  <tbody>\n",
       "    <tr>\n",
       "      <th>0</th>\n",
       "      <td>0</td>\n",
       "      <td>Go until jurong point, crazy.. Available only ...</td>\n",
       "      <td>111</td>\n",
       "      <td>24</td>\n",
       "    </tr>\n",
       "    <tr>\n",
       "      <th>1</th>\n",
       "      <td>0</td>\n",
       "      <td>Ok lar... Joking wif u oni...</td>\n",
       "      <td>29</td>\n",
       "      <td>8</td>\n",
       "    </tr>\n",
       "    <tr>\n",
       "      <th>2</th>\n",
       "      <td>1</td>\n",
       "      <td>Free entry in 2 a wkly comp to win FA Cup fina...</td>\n",
       "      <td>155</td>\n",
       "      <td>37</td>\n",
       "    </tr>\n",
       "    <tr>\n",
       "      <th>3</th>\n",
       "      <td>0</td>\n",
       "      <td>U dun say so early hor... U c already then say...</td>\n",
       "      <td>49</td>\n",
       "      <td>13</td>\n",
       "    </tr>\n",
       "    <tr>\n",
       "      <th>4</th>\n",
       "      <td>0</td>\n",
       "      <td>Nah I don't think he goes to usf, he lives aro...</td>\n",
       "      <td>61</td>\n",
       "      <td>15</td>\n",
       "    </tr>\n",
       "  </tbody>\n",
       "</table>\n",
       "</div>"
      ],
      "text/plain": [
       "   target                                               text  num_characters  \\\n",
       "0       0  Go until jurong point, crazy.. Available only ...             111   \n",
       "1       0                      Ok lar... Joking wif u oni...              29   \n",
       "2       1  Free entry in 2 a wkly comp to win FA Cup fina...             155   \n",
       "3       0  U dun say so early hor... U c already then say...              49   \n",
       "4       0  Nah I don't think he goes to usf, he lives aro...              61   \n",
       "\n",
       "   num_words  \n",
       "0         24  \n",
       "1          8  \n",
       "2         37  \n",
       "3         13  \n",
       "4         15  "
      ]
     },
     "execution_count": 27,
     "metadata": {},
     "output_type": "execute_result"
    }
   ],
   "source": [
    "df.head()"
   ]
  },
  {
   "cell_type": "code",
   "execution_count": 30,
   "id": "f09015f0",
   "metadata": {},
   "outputs": [],
   "source": [
    "df['num_sentences'] = df['text'].apply(lambda x:len(nltk.sent_tokenize(x)))"
   ]
  },
  {
   "cell_type": "code",
   "execution_count": 31,
   "id": "966dfa08",
   "metadata": {},
   "outputs": [
    {
     "data": {
      "text/html": [
       "<div>\n",
       "<style scoped>\n",
       "    .dataframe tbody tr th:only-of-type {\n",
       "        vertical-align: middle;\n",
       "    }\n",
       "\n",
       "    .dataframe tbody tr th {\n",
       "        vertical-align: top;\n",
       "    }\n",
       "\n",
       "    .dataframe thead th {\n",
       "        text-align: right;\n",
       "    }\n",
       "</style>\n",
       "<table border=\"1\" class=\"dataframe\">\n",
       "  <thead>\n",
       "    <tr style=\"text-align: right;\">\n",
       "      <th></th>\n",
       "      <th>target</th>\n",
       "      <th>text</th>\n",
       "      <th>num_characters</th>\n",
       "      <th>num_words</th>\n",
       "      <th>num_sentences</th>\n",
       "    </tr>\n",
       "  </thead>\n",
       "  <tbody>\n",
       "    <tr>\n",
       "      <th>0</th>\n",
       "      <td>0</td>\n",
       "      <td>Go until jurong point, crazy.. Available only ...</td>\n",
       "      <td>111</td>\n",
       "      <td>24</td>\n",
       "      <td>2</td>\n",
       "    </tr>\n",
       "    <tr>\n",
       "      <th>1</th>\n",
       "      <td>0</td>\n",
       "      <td>Ok lar... Joking wif u oni...</td>\n",
       "      <td>29</td>\n",
       "      <td>8</td>\n",
       "      <td>2</td>\n",
       "    </tr>\n",
       "    <tr>\n",
       "      <th>2</th>\n",
       "      <td>1</td>\n",
       "      <td>Free entry in 2 a wkly comp to win FA Cup fina...</td>\n",
       "      <td>155</td>\n",
       "      <td>37</td>\n",
       "      <td>2</td>\n",
       "    </tr>\n",
       "    <tr>\n",
       "      <th>3</th>\n",
       "      <td>0</td>\n",
       "      <td>U dun say so early hor... U c already then say...</td>\n",
       "      <td>49</td>\n",
       "      <td>13</td>\n",
       "      <td>1</td>\n",
       "    </tr>\n",
       "    <tr>\n",
       "      <th>4</th>\n",
       "      <td>0</td>\n",
       "      <td>Nah I don't think he goes to usf, he lives aro...</td>\n",
       "      <td>61</td>\n",
       "      <td>15</td>\n",
       "      <td>1</td>\n",
       "    </tr>\n",
       "  </tbody>\n",
       "</table>\n",
       "</div>"
      ],
      "text/plain": [
       "   target                                               text  num_characters  \\\n",
       "0       0  Go until jurong point, crazy.. Available only ...             111   \n",
       "1       0                      Ok lar... Joking wif u oni...              29   \n",
       "2       1  Free entry in 2 a wkly comp to win FA Cup fina...             155   \n",
       "3       0  U dun say so early hor... U c already then say...              49   \n",
       "4       0  Nah I don't think he goes to usf, he lives aro...              61   \n",
       "\n",
       "   num_words  num_sentences  \n",
       "0         24              2  \n",
       "1          8              2  \n",
       "2         37              2  \n",
       "3         13              1  \n",
       "4         15              1  "
      ]
     },
     "execution_count": 31,
     "metadata": {},
     "output_type": "execute_result"
    }
   ],
   "source": [
    "df.head()"
   ]
  },
  {
   "cell_type": "code",
   "execution_count": 33,
   "id": "cdd6922f",
   "metadata": {},
   "outputs": [
    {
     "data": {
      "text/html": [
       "<div>\n",
       "<style scoped>\n",
       "    .dataframe tbody tr th:only-of-type {\n",
       "        vertical-align: middle;\n",
       "    }\n",
       "\n",
       "    .dataframe tbody tr th {\n",
       "        vertical-align: top;\n",
       "    }\n",
       "\n",
       "    .dataframe thead th {\n",
       "        text-align: right;\n",
       "    }\n",
       "</style>\n",
       "<table border=\"1\" class=\"dataframe\">\n",
       "  <thead>\n",
       "    <tr style=\"text-align: right;\">\n",
       "      <th></th>\n",
       "      <th>num_characters</th>\n",
       "      <th>num_words</th>\n",
       "      <th>num_sentences</th>\n",
       "    </tr>\n",
       "  </thead>\n",
       "  <tbody>\n",
       "    <tr>\n",
       "      <th>count</th>\n",
       "      <td>5163.000000</td>\n",
       "      <td>5163.000000</td>\n",
       "      <td>5163.000000</td>\n",
       "    </tr>\n",
       "    <tr>\n",
       "      <th>mean</th>\n",
       "      <td>78.811156</td>\n",
       "      <td>18.443734</td>\n",
       "      <td>1.959713</td>\n",
       "    </tr>\n",
       "    <tr>\n",
       "      <th>std</th>\n",
       "      <td>58.153491</td>\n",
       "      <td>13.325627</td>\n",
       "      <td>1.432020</td>\n",
       "    </tr>\n",
       "    <tr>\n",
       "      <th>min</th>\n",
       "      <td>2.000000</td>\n",
       "      <td>1.000000</td>\n",
       "      <td>1.000000</td>\n",
       "    </tr>\n",
       "    <tr>\n",
       "      <th>25%</th>\n",
       "      <td>36.000000</td>\n",
       "      <td>9.000000</td>\n",
       "      <td>1.000000</td>\n",
       "    </tr>\n",
       "    <tr>\n",
       "      <th>50%</th>\n",
       "      <td>60.000000</td>\n",
       "      <td>15.000000</td>\n",
       "      <td>1.000000</td>\n",
       "    </tr>\n",
       "    <tr>\n",
       "      <th>75%</th>\n",
       "      <td>116.000000</td>\n",
       "      <td>26.000000</td>\n",
       "      <td>2.000000</td>\n",
       "    </tr>\n",
       "    <tr>\n",
       "      <th>max</th>\n",
       "      <td>910.000000</td>\n",
       "      <td>220.000000</td>\n",
       "      <td>38.000000</td>\n",
       "    </tr>\n",
       "  </tbody>\n",
       "</table>\n",
       "</div>"
      ],
      "text/plain": [
       "       num_characters    num_words  num_sentences\n",
       "count     5163.000000  5163.000000    5163.000000\n",
       "mean        78.811156    18.443734       1.959713\n",
       "std         58.153491    13.325627       1.432020\n",
       "min          2.000000     1.000000       1.000000\n",
       "25%         36.000000     9.000000       1.000000\n",
       "50%         60.000000    15.000000       1.000000\n",
       "75%        116.000000    26.000000       2.000000\n",
       "max        910.000000   220.000000      38.000000"
      ]
     },
     "execution_count": 33,
     "metadata": {},
     "output_type": "execute_result"
    }
   ],
   "source": [
    "# description\n",
    "df[['num_characters','num_words','num_sentences']].describe()"
   ]
  },
  {
   "cell_type": "code",
   "execution_count": 34,
   "id": "b5d7f444",
   "metadata": {},
   "outputs": [],
   "source": [
    "import seaborn as sns"
   ]
  },
  {
   "cell_type": "code",
   "execution_count": 35,
   "id": "5223dd86",
   "metadata": {},
   "outputs": [
    {
     "data": {
      "text/plain": [
       "<AxesSubplot:xlabel='num_characters', ylabel='Count'>"
      ]
     },
     "execution_count": 35,
     "metadata": {},
     "output_type": "execute_result"
    },
    {
     "data": {
      "image/png": "[encoded data removed]",
      "text/plain": [
       "<Figure size 864x432 with 1 Axes>"
      ]
     },
     "metadata": {
      "needs_background": "light"
     },
     "output_type": "display_data"
    }
   ],
   "source": [
    "plt.figure(figsize=(12,6))\n",
    "sns.histplot(df[df['target'] == 0]['num_characters'])\n",
    "sns.histplot(df[df['target'] == 1]['num_characters'],color='red')"
   ]
  },
  {
   "cell_type": "code",
   "execution_count": 36,
   "id": "ee277587",
   "metadata": {},
   "outputs": [
    {
     "data": {
      "text/plain": [
       "<AxesSubplot:xlabel='num_words', ylabel='Count'>"
      ]
     },
     "execution_count": 36,
     "metadata": {},
     "output_type": "execute_result"
    },
    {
     "data": {
      "image/png": "[encoded data removed]",
      "text/plain": [
       "<Figure size 864x432 with 1 Axes>"
      ]
     },
     "metadata": {
      "needs_background": "light"
     },
     "output_type": "display_data"
    }
   ],
   "source": [
    "plt.figure(figsize=(12,6))\n",
    "sns.histplot(df[df['target'] == 0]['num_words'])\n",
    "sns.histplot(df[df['target'] == 1]['num_words'],color='red')"
   ]
  },
  {
   "cell_type": "code",
   "execution_count": 37,
   "id": "cb3f64d1",
   "metadata": {},
   "outputs": [
    {
     "data": {
      "text/plain": [
       "<seaborn.axisgrid.PairGrid at 0x1aa2caafac0>"
      ]
     },
     "execution_count": 37,
     "metadata": {},
     "output_type": "execute_result"
    },
    {
     "data": {
      "image/png": "[encoded data removed]",
      "text/plain": [
       "<Figure size 582.375x540 with 12 Axes>"
      ]
     },
     "metadata": {
      "needs_background": "light"
     },
     "output_type": "display_data"
    }
   ],
   "source": [
    "sns.pairplot(df,hue='target')"
   ]
  },
  {
   "cell_type": "code",
   "execution_count": 38,
   "id": "296d09d5",
   "metadata": {},
   "outputs": [
    {
     "data": {
      "text/plain": [
       "<AxesSubplot:>"
      ]
     },
     "execution_count": 38,
     "metadata": {},
     "output_type": "execute_result"
    },
    {
     "data": {
      "image/png": "[encoded data removed]",
      "text/plain": [
       "<Figure size 432x288 with 2 Axes>"
      ]
     },
     "metadata": {
      "needs_background": "light"
     },
     "output_type": "display_data"
    }
   ],
   "source": [
    "#correlations\n",
    "sns.heatmap(df.corr(),annot=True)"
   ]
  },
  {
   "cell_type": "markdown",
   "id": "f4d203d8",
   "metadata": {},
   "source": [
    "# 3. Data preprocessing\n",
    "1. lower case\n",
    "2. Tokenization\n",
    "3. Remove special characters\n",
    "4. Remove stop words and punctuation\n",
    "5. Stemming\n"
   ]
  },
  {
   "cell_type": "code",
   "execution_count": 70,
   "id": "537511e3",
   "metadata": {},
   "outputs": [
    {
     "name": "stdout",
     "output_type": "stream",
     "text": [
      "Requirement already satisfied: nltk in c:\\users\\adithya\\anaconda3\\lib\\site-packages (3.6.5)\n",
      "Requirement already satisfied: click in c:\\users\\adithya\\anaconda3\\lib\\site-packages (from nltk) (7.1.2)\n",
      "Requirement already satisfied: joblib in c:\\users\\adithya\\anaconda3\\lib\\site-packages (from nltk) (1.1.0)\n",
      "Requirement already satisfied: regex>=2021.8.3 in c:\\users\\adithya\\anaconda3\\lib\\site-packages (from nltk) (2021.8.3)\n",
      "Requirement already satisfied: tqdm in c:\\users\\adithya\\anaconda3\\lib\\site-packages (from nltk) (4.62.3)\n",
      "Requirement already satisfied: colorama in c:\\users\\adithya\\anaconda3\\lib\\site-packages (from tqdm->nltk) (0.4.4)\n"
     ]
    },
    {
     "name": "stderr",
     "output_type": "stream",
     "text": [
      "[nltk_data] Downloading package stopwords to\n",
      "[nltk_data]     C:\\Users\\Adithya\\AppData\\Roaming\\nltk_data...\n",
      "[nltk_data]   Package stopwords is already up-to-date!\n"
     ]
    },
    {
     "data": {
      "text/plain": [
       "'!\"#$%&\\'()*+,-./:;<=>?@[\\\\]^_`{|}~'"
      ]
     },
     "execution_count": 70,
     "metadata": {},
     "output_type": "execute_result"
    }
   ],
   "source": [
    "!pip install nltk\n",
    "import nltk\n",
    "from nltk.corpus import stopwords \n",
    "nltk.download('stopwords')\n",
    "stopwords.words('english')\n",
    "import string\n",
    "string.punctuation"
   ]
  },
  {
   "cell_type": "code",
   "execution_count": 74,
   "id": "4d0c031b",
   "metadata": {},
   "outputs": [],
   "source": [
    "def transform_text(text):\n",
    "    text = text.lower()\n",
    "    text = nltk.word_tokenize(text)\n",
    "    #removing special symobols and only using alpha_num\n",
    "    y = []\n",
    "    for i in text:\n",
    "        if i.isalnum():\n",
    "            y.append(i)\n",
    "    \n",
    "    text = y[:]\n",
    "    y.clear()\n",
    "    #removing stopwords\n",
    "    for i in text:\n",
    "        if i not in stopwords.words('english') and i not in string.punctuation:\n",
    "            y.append(i)\n",
    "            \n",
    "    text = y[:]\n",
    "    y.clear()\n",
    "    #stemming\n",
    "    for i in text:\n",
    "        y.append(ps.stem(i))\n",
    "    \n",
    "            \n",
    "    return \" \".join(y)"
   ]
  },
  {
   "cell_type": "code",
   "execution_count": 75,
   "id": "ce22ed9f",
   "metadata": {},
   "outputs": [],
   "source": [
    "#removing stemming, useless repeating words\n",
    "from nltk.stem.porter import PorterStemmer\n",
    "ps = PorterStemmer()\n"
   ]
  },
  {
   "cell_type": "code",
   "execution_count": 77,
   "id": "981e8781",
   "metadata": {},
   "outputs": [
    {
     "data": {
      "text/plain": [
       "'hello adithya learn ml'"
      ]
     },
     "execution_count": 77,
     "metadata": {},
     "output_type": "execute_result"
    }
   ],
   "source": [
    "transform_text('Hello, this is %% Adithya and I am learning ML')"
   ]
  },
  {
   "cell_type": "code",
   "execution_count": 78,
   "id": "79064f57",
   "metadata": {},
   "outputs": [],
   "source": [
    "df['transformed_text'] = df['text'].apply(transform_text)"
   ]
  },
  {
   "cell_type": "code",
   "execution_count": 79,
   "id": "c0060fea",
   "metadata": {},
   "outputs": [
    {
     "data": {
      "text/html": [
       "<div>\n",
       "<style scoped>\n",
       "    .dataframe tbody tr th:only-of-type {\n",
       "        vertical-align: middle;\n",
       "    }\n",
       "\n",
       "    .dataframe tbody tr th {\n",
       "        vertical-align: top;\n",
       "    }\n",
       "\n",
       "    .dataframe thead th {\n",
       "        text-align: right;\n",
       "    }\n",
       "</style>\n",
       "<table border=\"1\" class=\"dataframe\">\n",
       "  <thead>\n",
       "    <tr style=\"text-align: right;\">\n",
       "      <th></th>\n",
       "      <th>target</th>\n",
       "      <th>text</th>\n",
       "      <th>num_characters</th>\n",
       "      <th>num_words</th>\n",
       "      <th>num_sentences</th>\n",
       "      <th>transformed_text</th>\n",
       "    </tr>\n",
       "  </thead>\n",
       "  <tbody>\n",
       "    <tr>\n",
       "      <th>0</th>\n",
       "      <td>0</td>\n",
       "      <td>Go until jurong point, crazy.. Available only ...</td>\n",
       "      <td>111</td>\n",
       "      <td>24</td>\n",
       "      <td>2</td>\n",
       "      <td>go jurong point crazi avail bugi n great world...</td>\n",
       "    </tr>\n",
       "    <tr>\n",
       "      <th>1</th>\n",
       "      <td>0</td>\n",
       "      <td>Ok lar... Joking wif u oni...</td>\n",
       "      <td>29</td>\n",
       "      <td>8</td>\n",
       "      <td>2</td>\n",
       "      <td>ok lar joke wif u oni</td>\n",
       "    </tr>\n",
       "    <tr>\n",
       "      <th>2</th>\n",
       "      <td>1</td>\n",
       "      <td>Free entry in 2 a wkly comp to win FA Cup fina...</td>\n",
       "      <td>155</td>\n",
       "      <td>37</td>\n",
       "      <td>2</td>\n",
       "      <td>free entri 2 wkli comp win fa cup final tkt 21...</td>\n",
       "    </tr>\n",
       "    <tr>\n",
       "      <th>3</th>\n",
       "      <td>0</td>\n",
       "      <td>U dun say so early hor... U c already then say...</td>\n",
       "      <td>49</td>\n",
       "      <td>13</td>\n",
       "      <td>1</td>\n",
       "      <td>u dun say earli hor u c alreadi say</td>\n",
       "    </tr>\n",
       "    <tr>\n",
       "      <th>4</th>\n",
       "      <td>0</td>\n",
       "      <td>Nah I don't think he goes to usf, he lives aro...</td>\n",
       "      <td>61</td>\n",
       "      <td>15</td>\n",
       "      <td>1</td>\n",
       "      <td>nah think goe usf live around though</td>\n",
       "    </tr>\n",
       "  </tbody>\n",
       "</table>\n",
       "</div>"
      ],
      "text/plain": [
       "   target                                               text  num_characters  \\\n",
       "0       0  Go until jurong point, crazy.. Available only ...             111   \n",
       "1       0                      Ok lar... Joking wif u oni...              29   \n",
       "2       1  Free entry in 2 a wkly comp to win FA Cup fina...             155   \n",
       "3       0  U dun say so early hor... U c already then say...              49   \n",
       "4       0  Nah I don't think he goes to usf, he lives aro...              61   \n",
       "\n",
       "   num_words  num_sentences                                   transformed_text  \n",
       "0         24              2  go jurong point crazi avail bugi n great world...  \n",
       "1          8              2                              ok lar joke wif u oni  \n",
       "2         37              2  free entri 2 wkli comp win fa cup final tkt 21...  \n",
       "3         13              1                u dun say earli hor u c alreadi say  \n",
       "4         15              1               nah think goe usf live around though  "
      ]
     },
     "execution_count": 79,
     "metadata": {},
     "output_type": "execute_result"
    }
   ],
   "source": [
    "df.head()"
   ]
  },
  {
   "cell_type": "markdown",
   "id": "3fcbddfb",
   "metadata": {},
   "source": [
    "## What are word clouds?\n",
    "A word cloud is a form of visual representation. It is a grouping of words that are displayed in various sizes: the larger and bolder the term, the more frequently it appears in a document and the more important it is. "
   ]
  },
  {
   "cell_type": "code",
   "execution_count": 82,
   "id": "347fd643",
   "metadata": {},
   "outputs": [
    {
     "name": "stdout",
     "output_type": "stream",
     "text": [
      "Collecting wordcloud\n",
      "  Downloading wordcloud-1.8.2.2-cp39-cp39-win_amd64.whl (153 kB)\n",
      "Requirement already satisfied: matplotlib in c:\\users\\adithya\\anaconda3\\lib\\site-packages (from wordcloud) (3.4.3)\n",
      "Requirement already satisfied: pillow in c:\\users\\adithya\\anaconda3\\lib\\site-packages (from wordcloud) (8.4.0)\n",
      "Requirement already satisfied: numpy>=1.6.1 in c:\\users\\adithya\\anaconda3\\lib\\site-packages (from wordcloud) (1.20.3)\n",
      "Requirement already satisfied: kiwisolver>=1.0.1 in c:\\users\\adithya\\anaconda3\\lib\\site-packages (from matplotlib->wordcloud) (1.3.1)\n",
      "Requirement already satisfied: cycler>=0.10 in c:\\users\\adithya\\anaconda3\\lib\\site-packages (from matplotlib->wordcloud) (0.10.0)\n",
      "Requirement already satisfied: python-dateutil>=2.7 in c:\\users\\adithya\\anaconda3\\lib\\site-packages (from matplotlib->wordcloud) (2.8.2)\n",
      "Requirement already satisfied: pyparsing>=2.2.1 in c:\\users\\adithya\\anaconda3\\lib\\site-packages (from matplotlib->wordcloud) (3.0.4)\n",
      "Requirement already satisfied: six in c:\\users\\adithya\\anaconda3\\lib\\site-packages (from cycler>=0.10->matplotlib->wordcloud) (1.16.0)\n",
      "Installing collected packages: wordcloud\n",
      "Successfully installed wordcloud-1.8.2.2\n"
     ]
    }
   ],
   "source": [
    "!pip install wordcloud\n",
    "from wordcloud import WordCloud\n",
    "wc = WordCloud(width=500,height=500,min_font_size=10,background_color='white')"
   ]
  },
  {
   "cell_type": "code",
   "execution_count": 85,
   "id": "4f988136",
   "metadata": {},
   "outputs": [],
   "source": [
    "#checking a wordcloud for spam msgs\n",
    "spam_wc = wc.generate(df[df['target'] == 1]['transformed_text'].str.cat(sep=\" \"))"
   ]
  },
  {
   "cell_type": "code",
   "execution_count": 86,
   "id": "6a27f451",
   "metadata": {},
   "outputs": [
    {
     "data": {
      "text/plain": [
       "<matplotlib.image.AxesImage at 0x1aa2e9d29d0>"
      ]
     },
     "execution_count": 86,
     "metadata": {},
     "output_type": "execute_result"
    },
    {
     "data": {
      "image/png": "[encoded data removed]",
      "text/plain": [
       "<Figure size 1080x432 with 1 Axes>"
      ]
     },
     "metadata": {
      "needs_background": "light"
     },
     "output_type": "display_data"
    }
   ],
   "source": [
    "plt.figure(figsize=(15,6))\n",
    "plt.imshow(spam_wc)"
   ]
  },
  {
   "cell_type": "code",
   "execution_count": 87,
   "id": "232191d3",
   "metadata": {},
   "outputs": [],
   "source": [
    "#checking a wordcloud for non-spam msgs\n",
    "spam_wc = wc.generate(df[df['target'] == 0]['transformed_text'].str.cat(sep=\" \"))"
   ]
  },
  {
   "cell_type": "code",
   "execution_count": 88,
   "id": "264cae90",
   "metadata": {},
   "outputs": [
    {
     "data": {
      "text/plain": [
       "<matplotlib.image.AxesImage at 0x1aa2ff38190>"
      ]
     },
     "execution_count": 88,
     "metadata": {},
     "output_type": "execute_result"
    },
    {
     "data": {
      "image/png": "[encoded data removed]",
      "text/plain": [
       "<Figure size 1080x432 with 1 Axes>"
      ]
     },
     "metadata": {
      "needs_background": "light"
     },
     "output_type": "display_data"
    }
   ],
   "source": [
    "plt.figure(figsize=(15,6))\n",
    "plt.imshow(spam_wc)"
   ]
  },
  {
   "cell_type": "code",
   "execution_count": 89,
   "id": "d41c4b3e",
   "metadata": {},
   "outputs": [],
   "source": [
    "#seperating all spam words into a list\n",
    "spam_corpus = []\n",
    "for msg in df[df['target'] == 1]['transformed_text'].tolist():\n",
    "    for word in msg.split():\n",
    "        spam_corpus.append(word)"
   ]
  },
  {
   "cell_type": "code",
   "execution_count": 90,
   "id": "14d78b76",
   "metadata": {},
   "outputs": [
    {
     "data": {
      "text/plain": [
       "9861"
      ]
     },
     "execution_count": 90,
     "metadata": {},
     "output_type": "execute_result"
    }
   ],
   "source": [
    "len(spam_corpus)"
   ]
  },
  {
   "cell_type": "code",
   "execution_count": 91,
   "id": "18024171",
   "metadata": {},
   "outputs": [
    {
     "data": {
      "text/plain": [
       "Counter({'free': 188,\n",
       "         'entri': 21,\n",
       "         '2': 155,\n",
       "         'wkli': 9,\n",
       "         'comp': 8,\n",
       "         'win': 46,\n",
       "         'fa': 2,\n",
       "         'cup': 3,\n",
       "         'final': 13,\n",
       "         'tkt': 2,\n",
       "         '21st': 1,\n",
       "         'may': 6,\n",
       "         'text': 122,\n",
       "         '87121': 2,\n",
       "         'receiv': 30,\n",
       "         'question': 9,\n",
       "         'std': 6,\n",
       "         'txt': 140,\n",
       "         'rate': 26,\n",
       "         'c': 45,\n",
       "         'appli': 24,\n",
       "         '08452810075over18': 1,\n",
       "         'freemsg': 14,\n",
       "         'hey': 5,\n",
       "         'darl': 2,\n",
       "         '3': 20,\n",
       "         'week': 49,\n",
       "         'word': 21,\n",
       "         'back': 20,\n",
       "         'like': 12,\n",
       "         'fun': 8,\n",
       "         'still': 5,\n",
       "         'tb': 1,\n",
       "         'ok': 5,\n",
       "         'xxx': 10,\n",
       "         'chg': 2,\n",
       "         'send': 59,\n",
       "         'rcv': 2,\n",
       "         'winner': 13,\n",
       "         'valu': 7,\n",
       "         'network': 26,\n",
       "         'custom': 40,\n",
       "         'select': 26,\n",
       "         'receivea': 1,\n",
       "         'prize': 80,\n",
       "         'reward': 7,\n",
       "         'claim': 97,\n",
       "         'call': 316,\n",
       "         'code': 26,\n",
       "         'kl341': 1,\n",
       "         'valid': 20,\n",
       "         '12': 3,\n",
       "         'hour': 4,\n",
       "         'mobil': 110,\n",
       "         '11': 3,\n",
       "         'month': 5,\n",
       "         'u': 117,\n",
       "         'r': 24,\n",
       "         'entitl': 5,\n",
       "         'updat': 12,\n",
       "         'latest': 29,\n",
       "         'colour': 13,\n",
       "         'camera': 22,\n",
       "         'co': 2,\n",
       "         '08002986030': 1,\n",
       "         'six': 2,\n",
       "         'chanc': 22,\n",
       "         'cash': 51,\n",
       "         '100': 14,\n",
       "         'pound': 19,\n",
       "         'csh11': 1,\n",
       "         'cost': 24,\n",
       "         '6day': 1,\n",
       "         'tsandc': 1,\n",
       "         'repli': 103,\n",
       "         'hl': 3,\n",
       "         '4': 97,\n",
       "         'info': 11,\n",
       "         'urgent': 57,\n",
       "         '1': 28,\n",
       "         'membership': 1,\n",
       "         'jackpot': 1,\n",
       "         '81010': 1,\n",
       "         'lccltd': 1,\n",
       "         'pobox': 11,\n",
       "         '4403ldnw1a7rw18': 1,\n",
       "         'xxxmobilemovieclub': 1,\n",
       "         'use': 12,\n",
       "         'credit': 18,\n",
       "         'click': 5,\n",
       "         'wap': 9,\n",
       "         'link': 6,\n",
       "         'next': 16,\n",
       "         'messag': 42,\n",
       "         'http': 18,\n",
       "         'england': 7,\n",
       "         'v': 4,\n",
       "         'macedonia': 1,\n",
       "         'dont': 9,\n",
       "         'miss': 8,\n",
       "         'news': 8,\n",
       "         'ur': 119,\n",
       "         'nation': 11,\n",
       "         'team': 2,\n",
       "         '87077': 8,\n",
       "         'eg': 11,\n",
       "         'tri': 36,\n",
       "         'wale': 1,\n",
       "         'scotland': 1,\n",
       "         'poboxox36504w45wq': 1,\n",
       "         'thank': 16,\n",
       "         'subscript': 5,\n",
       "         'rington': 30,\n",
       "         'uk': 20,\n",
       "         'charg': 22,\n",
       "         'pleas': 51,\n",
       "         'confirm': 1,\n",
       "         'ye': 12,\n",
       "         '07732584351': 1,\n",
       "         'rodger': 1,\n",
       "         'burn': 1,\n",
       "         'msg': 35,\n",
       "         'sm': 22,\n",
       "         'nokia': 55,\n",
       "         'camcord': 15,\n",
       "         '08000930705': 16,\n",
       "         'deliveri': 18,\n",
       "         'tomorrow': 10,\n",
       "         'ac': 4,\n",
       "         'sptv': 2,\n",
       "         'new': 64,\n",
       "         'jersey': 1,\n",
       "         'devil': 1,\n",
       "         'detroit': 1,\n",
       "         'red': 1,\n",
       "         'wing': 1,\n",
       "         'play': 14,\n",
       "         'ice': 1,\n",
       "         'hockey': 1,\n",
       "         'correct': 4,\n",
       "         'incorrect': 1,\n",
       "         'end': 24,\n",
       "         'congrat': 6,\n",
       "         'year': 9,\n",
       "         'special': 16,\n",
       "         'cinema': 2,\n",
       "         'pass': 5,\n",
       "         '09061209465': 2,\n",
       "         'suprman': 2,\n",
       "         'matrix3': 2,\n",
       "         'starwars3': 2,\n",
       "         'etc': 6,\n",
       "         '150pm': 4,\n",
       "         'advis': 2,\n",
       "         'follow': 10,\n",
       "         'recent': 4,\n",
       "         'review': 3,\n",
       "         'mob': 20,\n",
       "         'award': 55,\n",
       "         'bonu': 17,\n",
       "         '09066364589': 1,\n",
       "         'complimentari': 11,\n",
       "         'trip': 3,\n",
       "         'eurodisinc': 1,\n",
       "         'trav': 1,\n",
       "         'aco': 1,\n",
       "         'entry41': 1,\n",
       "         'di': 1,\n",
       "         'morefrmmob': 1,\n",
       "         'shracomorsglsuplt': 1,\n",
       "         '10': 7,\n",
       "         'ls1': 1,\n",
       "         '3aj': 1,\n",
       "         'hear': 3,\n",
       "         'come': 5,\n",
       "         'ken': 1,\n",
       "         'stuff': 1,\n",
       "         'servic': 64,\n",
       "         'repres': 6,\n",
       "         '0800': 9,\n",
       "         '169': 1,\n",
       "         '6031': 1,\n",
       "         'guarante': 41,\n",
       "         'wait': 16,\n",
       "         'collect': 44,\n",
       "         'simpli': 2,\n",
       "         'password': 2,\n",
       "         '85069': 1,\n",
       "         'verifi': 2,\n",
       "         'get': 73,\n",
       "         'usher': 1,\n",
       "         'britney': 1,\n",
       "         'fml': 1,\n",
       "         'gent': 1,\n",
       "         'contact': 54,\n",
       "         'last': 11,\n",
       "         'weekend': 12,\n",
       "         'draw': 34,\n",
       "         'show': 32,\n",
       "         'k52': 2,\n",
       "         '12hr': 15,\n",
       "         '150ppm': 28,\n",
       "         'holiday': 27,\n",
       "         'flight': 6,\n",
       "         'inc': 7,\n",
       "         'speak': 7,\n",
       "         'live': 22,\n",
       "         'oper': 11,\n",
       "         'privat': 16,\n",
       "         '2004': 7,\n",
       "         'account': 18,\n",
       "         'statement': 15,\n",
       "         '07742676969': 1,\n",
       "         '786': 3,\n",
       "         'unredeem': 3,\n",
       "         'point': 15,\n",
       "         '08719180248': 1,\n",
       "         'identifi': 15,\n",
       "         '45239': 2,\n",
       "         'expir': 17,\n",
       "         'caller': 12,\n",
       "         'landlin': 30,\n",
       "         '09064019788': 1,\n",
       "         'box42wr29c': 1,\n",
       "         'today': 33,\n",
       "         'voda': 5,\n",
       "         'number': 35,\n",
       "         '7548': 1,\n",
       "         '350': 2,\n",
       "         'match': 14,\n",
       "         '08712300220': 6,\n",
       "         'quot': 6,\n",
       "         '4041': 1,\n",
       "         'standard': 6,\n",
       "         'app': 4,\n",
       "         'sunshin': 5,\n",
       "         'quiz': 9,\n",
       "         'q': 2,\n",
       "         'top': 14,\n",
       "         'soni': 5,\n",
       "         'dvd': 5,\n",
       "         'player': 10,\n",
       "         'know': 19,\n",
       "         'countri': 2,\n",
       "         'algarv': 1,\n",
       "         'ansr': 2,\n",
       "         '82277': 2,\n",
       "         'sp': 6,\n",
       "         'tyron': 2,\n",
       "         'want': 31,\n",
       "         'laid': 4,\n",
       "         'tonight': 3,\n",
       "         'real': 12,\n",
       "         'dog': 12,\n",
       "         'locat': 5,\n",
       "         'sent': 10,\n",
       "         'direct': 10,\n",
       "         'join': 18,\n",
       "         'largest': 4,\n",
       "         'bt': 5,\n",
       "         'txting': 7,\n",
       "         'gravel': 1,\n",
       "         '69888': 2,\n",
       "         'nt': 1,\n",
       "         'ec2a': 4,\n",
       "         '150p': 26,\n",
       "         'chat': 37,\n",
       "         'svc': 1,\n",
       "         'hardcor': 2,\n",
       "         'go': 32,\n",
       "         '69988': 1,\n",
       "         'noth': 4,\n",
       "         'must': 5,\n",
       "         'age': 9,\n",
       "         'yr': 14,\n",
       "         'randi': 2,\n",
       "         'sexi': 14,\n",
       "         'femal': 1,\n",
       "         'local': 5,\n",
       "         'luv': 5,\n",
       "         'netcollex': 4,\n",
       "         'ltd': 11,\n",
       "         '08700621170150p': 2,\n",
       "         'per': 41,\n",
       "         'stop': 104,\n",
       "         'annonc': 1,\n",
       "         '07046744435': 1,\n",
       "         'arrang': 2,\n",
       "         '0871277810810': 1,\n",
       "         'bootydeli': 1,\n",
       "         'invit': 9,\n",
       "         'friend': 13,\n",
       "         'see': 16,\n",
       "         'frnd': 5,\n",
       "         '62468': 5,\n",
       "         'bangbab': 1,\n",
       "         'order': 17,\n",
       "         'way': 1,\n",
       "         'download': 7,\n",
       "         'content': 14,\n",
       "         'goto': 5,\n",
       "         'bangb': 1,\n",
       "         'tv': 3,\n",
       "         'menu': 1,\n",
       "         's89': 1,\n",
       "         'freephon': 4,\n",
       "         '0808': 1,\n",
       "         '145': 1,\n",
       "         '4742': 1,\n",
       "         'uniqu': 2,\n",
       "         'enough': 2,\n",
       "         'find': 21,\n",
       "         '30th': 1,\n",
       "         'august': 2,\n",
       "         '500': 19,\n",
       "         '89545': 3,\n",
       "         '2optout': 4,\n",
       "         'meet': 5,\n",
       "         'dream': 2,\n",
       "         'partner': 5,\n",
       "         'soon': 2,\n",
       "         'career': 1,\n",
       "         'flyng': 1,\n",
       "         'start': 12,\n",
       "         'horo': 2,\n",
       "         'star': 3,\n",
       "         'sign': 2,\n",
       "         'ari': 1,\n",
       "         'someon': 13,\n",
       "         'date': 26,\n",
       "         'even': 7,\n",
       "         'flirt': 5,\n",
       "         '10p': 13,\n",
       "         'name': 15,\n",
       "         'sam': 2,\n",
       "         '25': 3,\n",
       "         '18': 20,\n",
       "         'recd': 3,\n",
       "         'thirtyeight': 1,\n",
       "         'penc': 3,\n",
       "         '447801259231': 1,\n",
       "         'secret': 7,\n",
       "         'admir': 7,\n",
       "         'look': 9,\n",
       "         'make': 11,\n",
       "         'reveal': 12,\n",
       "         'think': 11,\n",
       "         '09058094597': 1,\n",
       "         'congratul': 12,\n",
       "         'cd': 11,\n",
       "         'voucher': 28,\n",
       "         '125gift': 2,\n",
       "         'music': 15,\n",
       "         '87066': 10,\n",
       "         'tnc': 7,\n",
       "         'offer': 33,\n",
       "         'video': 29,\n",
       "         'handset': 6,\n",
       "         '750': 17,\n",
       "         'anytim': 12,\n",
       "         'min': 45,\n",
       "         'unlimit': 10,\n",
       "         'realli': 1,\n",
       "         'horni': 7,\n",
       "         'nake': 1,\n",
       "         'hot': 13,\n",
       "         '69698': 2,\n",
       "         'unsubscrib': 17,\n",
       "         'chang': 1,\n",
       "         'choos': 9,\n",
       "         'club': 19,\n",
       "         '87070': 1,\n",
       "         'club4': 1,\n",
       "         'po': 24,\n",
       "         'box1146': 1,\n",
       "         'mk45': 1,\n",
       "         '2wt': 1,\n",
       "         'singl': 5,\n",
       "         'chart': 3,\n",
       "         'qualiti': 2,\n",
       "         'hmv': 4,\n",
       "         'genuin': 1,\n",
       "         'answer': 6,\n",
       "         'easi': 9,\n",
       "         '86688': 13,\n",
       "         'phone': 52,\n",
       "         'upgrad': 4,\n",
       "         'pay': 2,\n",
       "         'sim': 2,\n",
       "         'card': 4,\n",
       "         'loyalti': 6,\n",
       "         '0845': 3,\n",
       "         '021': 2,\n",
       "         'blind': 2,\n",
       "         '4u': 4,\n",
       "         'rodds1': 1,\n",
       "         'aberdeen': 1,\n",
       "         'unit': 1,\n",
       "         'kingdom': 1,\n",
       "         'check': 4,\n",
       "         'hide': 1,\n",
       "         'themob': 5,\n",
       "         'newest': 3,\n",
       "         'game': 20,\n",
       "         'tone': 63,\n",
       "         'gossip': 1,\n",
       "         'babe': 10,\n",
       "         'sport': 7,\n",
       "         'keep': 5,\n",
       "         'fit': 1,\n",
       "         'funki': 1,\n",
       "         '82468': 2,\n",
       "         'smart': 2,\n",
       "         'weekli': 20,\n",
       "         '85222': 1,\n",
       "         'cs': 35,\n",
       "         'winnersclub': 1,\n",
       "         'box': 26,\n",
       "         '84': 1,\n",
       "         'm26': 3,\n",
       "         '3uz': 3,\n",
       "         'decemb': 3,\n",
       "         '08002986906': 2,\n",
       "         'germani': 3,\n",
       "         'minut': 12,\n",
       "         'fix': 2,\n",
       "         'line': 33,\n",
       "         'via': 3,\n",
       "         'access': 8,\n",
       "         '0844': 2,\n",
       "         '861': 2,\n",
       "         '85': 2,\n",
       "         'prepay': 2,\n",
       "         'valentin': 3,\n",
       "         'day': 26,\n",
       "         'take': 15,\n",
       "         'lifetim': 2,\n",
       "         '83600': 3,\n",
       "         'rcvd': 5,\n",
       "         'fanci': 12,\n",
       "         'shag': 2,\n",
       "         'xxuk': 1,\n",
       "         'suzi': 1,\n",
       "         'websit': 1,\n",
       "         'x': 8,\n",
       "         'current': 11,\n",
       "         'maxim': 7,\n",
       "         'cc': 6,\n",
       "         '08708800282': 1,\n",
       "         'xma': 14,\n",
       "         'motorola': 10,\n",
       "         'sonyericsson': 5,\n",
       "         'bluetooth': 7,\n",
       "         'doubl': 13,\n",
       "         '1000': 9,\n",
       "         'orang': 24,\n",
       "         'mobileupd8': 13,\n",
       "         '08000839402': 12,\n",
       "         'discount': 6,\n",
       "         'rp176781': 1,\n",
       "         '08717205546': 1,\n",
       "         'refer': 4,\n",
       "         't91': 1,\n",
       "         'gbp': 1,\n",
       "         '09057039994': 1,\n",
       "         '6month': 1,\n",
       "         'avail': 2,\n",
       "         '4mth': 2,\n",
       "         'half': 12,\n",
       "         'price': 15,\n",
       "         'rental': 11,\n",
       "         '11mth': 3,\n",
       "         'mobilesdirect': 2,\n",
       "         '08000938767': 2,\n",
       "         'or2stoptxt': 2,\n",
       "         'first': 6,\n",
       "         '87131': 3,\n",
       "         'poli': 22,\n",
       "         'true': 2,\n",
       "         'help': 12,\n",
       "         '2814032': 1,\n",
       "         '16': 18,\n",
       "         '1st': 19,\n",
       "         'cal': 1,\n",
       "         'l': 1,\n",
       "         '09064012103': 1,\n",
       "         'box334sk38ch': 2,\n",
       "         'competit': 2,\n",
       "         '80086': 2,\n",
       "         'logo': 6,\n",
       "         'lover': 2,\n",
       "         'heart': 3,\n",
       "         'love': 10,\n",
       "         'name1': 2,\n",
       "         'name2': 2,\n",
       "         'mobno': 2,\n",
       "         'adam': 2,\n",
       "         'eve': 5,\n",
       "         '07123456789': 2,\n",
       "         'yahoo': 2,\n",
       "         'pobox36504w45wq': 5,\n",
       "         'txtno': 2,\n",
       "         'ad': 4,\n",
       "         'enter': 15,\n",
       "         '09111032124': 1,\n",
       "         'pobox12n146tf150p': 1,\n",
       "         '09058094455': 1,\n",
       "         'land': 16,\n",
       "         '3650': 1,\n",
       "         '09066382422': 1,\n",
       "         'ave': 2,\n",
       "         '3min': 3,\n",
       "         'vari': 4,\n",
       "         'close': 3,\n",
       "         '300603': 1,\n",
       "         'post': 4,\n",
       "         'bcm4284': 1,\n",
       "         'ldn': 6,\n",
       "         'wc1n3xx': 3,\n",
       "         'loan': 3,\n",
       "         'purpos': 2,\n",
       "         'homeown': 1,\n",
       "         'tenant': 2,\n",
       "         'welcom': 8,\n",
       "         'previous': 1,\n",
       "         'refus': 2,\n",
       "         '1956669': 1,\n",
       "         'upgrdcentr': 1,\n",
       "         '0207': 2,\n",
       "         '153': 2,\n",
       "         '26th': 1,\n",
       "         'juli': 2,\n",
       "         'okmail': 1,\n",
       "         'dear': 15,\n",
       "         'dave': 2,\n",
       "         'notic': 3,\n",
       "         'tenerif': 7,\n",
       "         '5000': 4,\n",
       "         '09061743806': 2,\n",
       "         'tc': 7,\n",
       "         'sae': 18,\n",
       "         'box326': 2,\n",
       "         'cw25wx': 4,\n",
       "         'moan': 1,\n",
       "         '69888nyt': 1,\n",
       "         'activ': 5,\n",
       "         'term': 8,\n",
       "         'condit': 4,\n",
       "         'visit': 5,\n",
       "         '09050002311': 1,\n",
       "         'b4280703': 1,\n",
       "         '40gb': 6,\n",
       "         'ipod': 10,\n",
       "         'mp3': 5,\n",
       "         '83355': 4,\n",
       "         'ibhltd': 3,\n",
       "         'ldnw15h': 3,\n",
       "         'boltblu': 1,\n",
       "         'mono': 4,\n",
       "         'poly3': 1,\n",
       "         'cha': 2,\n",
       "         'slide': 1,\n",
       "         'yeah': 1,\n",
       "         'slow': 1,\n",
       "         'jamz': 1,\n",
       "         'toxic': 1,\n",
       "         'renew': 3,\n",
       "         'pin': 1,\n",
       "         'tgxxrz': 1,\n",
       "         '2nd': 19,\n",
       "         'attempt': 21,\n",
       "         'box95qu': 3,\n",
       "         'worth': 8,\n",
       "         '85023': 4,\n",
       "         'savamob': 8,\n",
       "         'member': 6,\n",
       "         '08717898035': 2,\n",
       "         'sub': 5,\n",
       "         'unsub': 3,\n",
       "         'reciev': 1,\n",
       "         'within': 4,\n",
       "         '24hr': 2,\n",
       "         'channel': 1,\n",
       "         'teletext': 1,\n",
       "         'pg': 1,\n",
       "         '2003': 13,\n",
       "         '07815296484': 1,\n",
       "         '800': 13,\n",
       "         '08718738001': 2,\n",
       "         '41782': 1,\n",
       "         'monthlysubscript': 1,\n",
       "         'csc': 1,\n",
       "         'web': 2,\n",
       "         'age16': 6,\n",
       "         '2stop': 1,\n",
       "         'call09050000327': 2,\n",
       "         'us': 7,\n",
       "         'ring': 5,\n",
       "         '09050005321': 1,\n",
       "         '150': 9,\n",
       "         'textand': 1,\n",
       "         '08002988890': 1,\n",
       "         'shop': 10,\n",
       "         'spree': 6,\n",
       "         'custcar': 7,\n",
       "         '08715705022': 3,\n",
       "         '2000': 2,\n",
       "         '08712402050': 2,\n",
       "         '10ppm': 2,\n",
       "         'ag': 2,\n",
       "         'promo': 2,\n",
       "         '07753741225': 1,\n",
       "         '08715203677': 1,\n",
       "         '42478': 1,\n",
       "         'import': 11,\n",
       "         'announc': 5,\n",
       "         '542': 3,\n",
       "         '0825': 1,\n",
       "         'xclusiv': 1,\n",
       "         'clubsaisai': 1,\n",
       "         '2morow': 1,\n",
       "         'soire': 1,\n",
       "         'zouk': 1,\n",
       "         'nichol': 1,\n",
       "         'rose': 1,\n",
       "         'ladi': 3,\n",
       "         '22': 1,\n",
       "         'kick': 3,\n",
       "         'euro2004': 3,\n",
       "         'kept': 2,\n",
       "         'result': 2,\n",
       "         'daili': 3,\n",
       "         'remov': 7,\n",
       "         '83222': 2,\n",
       "         'textbuddi': 2,\n",
       "         'guy': 5,\n",
       "         'area': 8,\n",
       "         '25p': 7,\n",
       "         'search': 2,\n",
       "         'postcod': 3,\n",
       "         'one': 10,\n",
       "         '89693': 2,\n",
       "         'vodafon': 4,\n",
       "         '4882': 1,\n",
       "         '09064019014': 1,\n",
       "         'holder': 6,\n",
       "         'pc': 6,\n",
       "         'ts': 9,\n",
       "         '80062': 5,\n",
       "         '08715203694': 1,\n",
       "         '40533': 2,\n",
       "         'rstm': 2,\n",
       "         'sw7': 2,\n",
       "         '3ss': 2,\n",
       "         '88800': 1,\n",
       "         '89034': 1,\n",
       "         'premium': 2,\n",
       "         '08718711108': 1,\n",
       "         'sun0819': 1,\n",
       "         'hello': 4,\n",
       "         'seem': 1,\n",
       "         'cool': 1,\n",
       "         'gr8': 7,\n",
       "         '20': 3,\n",
       "         'everi': 26,\n",
       "         'wk': 17,\n",
       "         'opt': 10,\n",
       "         '08452810071': 1,\n",
       "         'hi': 15,\n",
       "         'sue': 2,\n",
       "         'old': 2,\n",
       "         'work': 3,\n",
       "         'lapdanc': 1,\n",
       "         'sex': 10,\n",
       "         'bedroom': 1,\n",
       "         'textoper': 3,\n",
       "         'g2': 1,\n",
       "         '1da': 1,\n",
       "         '150ppmsg': 1,\n",
       "         'forward': 4,\n",
       "         '448712404000': 1,\n",
       "         '08712404000': 1,\n",
       "         'immedi': 5,\n",
       "         'fantast': 7,\n",
       "         'deck': 1,\n",
       "         'alert': 5,\n",
       "         '08714712388': 1,\n",
       "         '09071512433': 2,\n",
       "         'b4': 6,\n",
       "         '050703': 2,\n",
       "         'csbcm4235wc1n3xx': 2,\n",
       "         'callcost': 2,\n",
       "         'mobilesvari': 2,\n",
       "         '50': 3,\n",
       "         '08714712394': 1,\n",
       "         'email': 2,\n",
       "         'alertfrom': 1,\n",
       "         'jeri': 1,\n",
       "         'stewarts': 1,\n",
       "         '2kbsubject': 1,\n",
       "         'prescripiton': 1,\n",
       "         'drvgsto': 1,\n",
       "         'listen': 3,\n",
       "         '123': 1,\n",
       "         'nokia6650': 2,\n",
       "         'txtauction': 5,\n",
       "         '81151': 2,\n",
       "         '4t': 3,\n",
       "         'ctxt': 2,\n",
       "         'subscrib': 9,\n",
       "         'best': 7,\n",
       "         'helplin': 2,\n",
       "         '08706091795': 2,\n",
       "         'realiz': 1,\n",
       "         '40': 2,\n",
       "         'thousand': 1,\n",
       "         'run': 1,\n",
       "         'around': 2,\n",
       "         'tattoo': 1,\n",
       "         'premier': 2,\n",
       "         'romant': 1,\n",
       "         'pari': 3,\n",
       "         'night': 7,\n",
       "         'book': 6,\n",
       "         '08704439680t': 1,\n",
       "         'unclaim': 1,\n",
       "         '09066368327': 1,\n",
       "         'claimcod': 1,\n",
       "         'm39m51': 1,\n",
       "         'citi': 3,\n",
       "         'break': 5,\n",
       "         'could': 7,\n",
       "         'summer': 7,\n",
       "         'store': 7,\n",
       "         '88039': 2,\n",
       "         'skilgm': 3,\n",
       "         'tscs087147403231winawk': 2,\n",
       "         '0578': 2,\n",
       "         'ever': 3,\n",
       "         'thought': 1,\n",
       "         'good': 12,\n",
       "         'life': 3,\n",
       "         'perfect': 1,\n",
       "         'commun': 2,\n",
       "         '5': 8,\n",
       "         'polyphon': 4,\n",
       "         '087018728737': 1,\n",
       "         'toppoli': 1,\n",
       "         'tune': 1,\n",
       "         'subpoli': 2,\n",
       "         '81618': 1,\n",
       "         'pole': 1,\n",
       "         '08718727870': 2,\n",
       "         '14thmarch': 1,\n",
       "         'availa': 1,\n",
       "         'pobox84': 4,\n",
       "         'm263uz': 2,\n",
       "         'no1': 5,\n",
       "         '8077': 1,\n",
       "         'tell': 13,\n",
       "         'mate': 8,\n",
       "         '36504': 4,\n",
       "         'w45wq': 3,\n",
       "         'cashto': 2,\n",
       "         '08000407165': 2,\n",
       "         'getstop': 2,\n",
       "         '88222': 2,\n",
       "         'php': 2,\n",
       "         'rg21': 1,\n",
       "         '4jx': 1,\n",
       "         'either': 8,\n",
       "         'gift': 16,\n",
       "         'outbid': 1,\n",
       "         'simonwatson5120': 1,\n",
       "         'shinco': 1,\n",
       "         'plyr': 1,\n",
       "         'bid': 8,\n",
       "         'notif': 1,\n",
       "         'smsservic': 1,\n",
       "         'yourinclus': 1,\n",
       "         'pl': 8,\n",
       "         '3qxj9': 3,\n",
       "         'extra': 6,\n",
       "         '9ae': 3,\n",
       "         'alfi': 3,\n",
       "         'moon': 3,\n",
       "         'children': 3,\n",
       "         'need': 11,\n",
       "         'song': 3,\n",
       "         'm8': 4,\n",
       "         'chariti': 9,\n",
       "         '8007': 19,\n",
       "         'zed': 6,\n",
       "         '08701417012': 3,\n",
       "         'profit': 3,\n",
       "         'cust': 3,\n",
       "         'care': 6,\n",
       "         '07821230901': 1,\n",
       "         'five': 3,\n",
       "         '08002888812': 2,\n",
       "         'wed': 2,\n",
       "         '09066350750': 2,\n",
       "         'ibiza': 4,\n",
       "         'await': 24,\n",
       "         '434': 3,\n",
       "         'sk3': 3,\n",
       "         '8wp': 3,\n",
       "         'ppm': 4,\n",
       "         'talk': 5,\n",
       "         'fall': 1,\n",
       "         'world': 2,\n",
       "         'discreet': 2,\n",
       "         'vip': 4,\n",
       "         '83110': 1,\n",
       "         'suppli': 2,\n",
       "         'virgin': 2,\n",
       "         'record': 6,\n",
       "         'mysteri': 1,\n",
       "         '09061104283': 1,\n",
       "         'approx': 1,\n",
       "         '07808': 1,\n",
       "         'xxxxxx': 1,\n",
       "         '08719899217': 1,\n",
       "         '41685': 2,\n",
       "         'posh': 1,\n",
       "         'bird': 1,\n",
       "         'chap': 1,\n",
       "         'user': 8,\n",
       "         'trial': 1,\n",
       "         'prod': 1,\n",
       "         'champney': 1,\n",
       "         'put': 1,\n",
       "         'address': 3,\n",
       "         'dob': 1,\n",
       "         'asap': 6,\n",
       "         'ta': 1,\n",
       "         '0721072': 1,\n",
       "         'till': 2,\n",
       "         'drop': 1,\n",
       "         '10k': 2,\n",
       "         '5k': 1,\n",
       "         'travel': 1,\n",
       "         'ntt': 7,\n",
       "         'cr01327bt': 1,\n",
       "         'fixedlin': 1,\n",
       "         'liverpool': 2,\n",
       "         'mid': 1,\n",
       "         '09058094565': 2,\n",
       "         'remind': 2,\n",
       "         'alreadi': 1,\n",
       "         'paid': 1,\n",
       "         'mymobi': 1,\n",
       "         'lastest': 1,\n",
       "         'stereophon': 1,\n",
       "         'marley': 1,\n",
       "         'dizze': 1,\n",
       "         'racal': 1,\n",
       "         'libertin': 1,\n",
       "         'stroke': 1,\n",
       "         'nookii': 1,\n",
       "         'bookmark': 1,\n",
       "         'januari': 1,\n",
       "         'male': 3,\n",
       "         'sale': 4,\n",
       "         'gay': 6,\n",
       "         'cheaper': 2,\n",
       "         'cheap': 3,\n",
       "         'peak': 2,\n",
       "         '08712460324': 8,\n",
       "         'money': 4,\n",
       "         'lucki': 8,\n",
       "         '88600': 2,\n",
       "         'give': 8,\n",
       "         'away': 4,\n",
       "         'box403': 1,\n",
       "         'w1t1ji': 1,\n",
       "         'matthew': 1,\n",
       "         '09063440451': 1,\n",
       "         'lux': 2,\n",
       "         'ppm150': 1,\n",
       "         'box334': 1,\n",
       "         'sk38xh': 4,\n",
       "         '09061749602': 1,\n",
       "         '528': 1,\n",
       "         'hp20': 1,\n",
       "         '1yf': 1,\n",
       "         'touch': 1,\n",
       "         'folk': 1,\n",
       "         'compani': 3,\n",
       "         'enjoy': 12,\n",
       "         '08718720201': 5,\n",
       "         'filthi': 2,\n",
       "         'stori': 1,\n",
       "         'girl': 9,\n",
       "         '09050001808': 1,\n",
       "         'm95': 1,\n",
       "         'valid12hr': 2,\n",
       "         '3g': 3,\n",
       "         'videophon': 3,\n",
       "         '09063458130': 2,\n",
       "         'videochat': 3,\n",
       "         'wid': 3,\n",
       "         'java': 3,\n",
       "         'dload': 3,\n",
       "         'polyph': 2,\n",
       "         'nolin': 3,\n",
       "         'rentl': 3,\n",
       "         'panason': 1,\n",
       "         'bluetoothhdset': 1,\n",
       "         'doublemin': 1,\n",
       "         'doubletxt': 1,\n",
       "         'contract': 4,\n",
       "         'guess': 6,\n",
       "         'somebodi': 2,\n",
       "         'secretli': 2,\n",
       "         'wan': 11,\n",
       "         'na': 10,\n",
       "         '09065394514': 1,\n",
       "         'datebox1282essexcm61xn': 2,\n",
       "         '09058097218': 1,\n",
       "         '6': 5,\n",
       "         'ls15hb': 2,\n",
       "         'bloke': 1,\n",
       "         'zoe': 1,\n",
       "         'kickoff': 1,\n",
       "         'inform': 9,\n",
       "         'euro': 2,\n",
       "         'eastend': 1,\n",
       "         'flower': 2,\n",
       "         'dot': 1,\n",
       "         'compar': 1,\n",
       "         'violet': 1,\n",
       "         'tulip': 1,\n",
       "         'lili': 1,\n",
       "         'e': 1,\n",
       "         'f': 3,\n",
       "         '84025': 2,\n",
       "         'lot': 2,\n",
       "         'peopl': 3,\n",
       "         'regist': 5,\n",
       "         'replys150': 1,\n",
       "         'ask': 5,\n",
       "         'cant': 3,\n",
       "         '09058091854': 1,\n",
       "         'box385': 1,\n",
       "         'm6': 1,\n",
       "         '6wu': 1,\n",
       "         '09050003091': 2,\n",
       "         'c52': 2,\n",
       "         'xchat': 4,\n",
       "         'sipix': 3,\n",
       "         'digit': 6,\n",
       "         '09061221061': 1,\n",
       "         '28day': 1,\n",
       "         'box177': 1,\n",
       "         'm221bp': 1,\n",
       "         '2yr': 1,\n",
       "         'warranti': 1,\n",
       "         'p': 2,\n",
       "         '09061790121': 2,\n",
       "         '3030': 1,\n",
       "         'b': 10,\n",
       "         'receipt': 3,\n",
       "         'an': 6,\n",
       "         'elvi': 1,\n",
       "         'presley': 1,\n",
       "         'birthday': 1,\n",
       "         'o2': 5,\n",
       "         'log': 7,\n",
       "         'onto': 7,\n",
       "         'surpris': 5,\n",
       "         '449050000301': 1,\n",
       "         '09050000301': 1,\n",
       "         'bore': 3,\n",
       "         'speed': 1,\n",
       "         'speedchat': 2,\n",
       "         '80155': 1,\n",
       "         'em': 1,\n",
       "         'swap': 1,\n",
       "         'chatter': 1,\n",
       "         'chat80155': 1,\n",
       "         'rcd': 1,\n",
       "         '08000776320': 2,\n",
       "         'part': 7,\n",
       "         'survey': 1,\n",
       "         'yesterday': 3,\n",
       "         'howev': 1,\n",
       "         'wish': 2,\n",
       "         '80160': 1,\n",
       "         'hmv1': 1,\n",
       "         'forget': 2,\n",
       "         'place': 4,\n",
       "         'mani': 3,\n",
       "         'request': 2,\n",
       "         '08707808226': 1,\n",
       "         'let': 3,\n",
       "         'notifi': 1,\n",
       "         'luck': 6,\n",
       "         'futur': 3,\n",
       "         'market': 1,\n",
       "         ...})"
      ]
     },
     "execution_count": 91,
     "metadata": {},
     "output_type": "execute_result"
    }
   ],
   "source": [
    "#converting to a dictionary\n",
    "from collections import Counter\n",
    "Counter(spam_corpus)"
   ]
  },
  {
   "cell_type": "code",
   "execution_count": 92,
   "id": "ffe30000",
   "metadata": {},
   "outputs": [
    {
     "name": "stderr",
     "output_type": "stream",
     "text": [
      "C:\\Users\\Adithya\\anaconda3\\lib\\site-packages\\seaborn\\_decorators.py:36: FutureWarning: Pass the following variables as keyword args: x, y. From version 0.12, the only valid positional argument will be `data`, and passing other arguments without an explicit keyword will result in an error or misinterpretation.\n",
      "  warnings.warn(\n"
     ]
    },
    {
     "data": {
      "image/png": "[encoded data removed]",
      "text/plain": [
       "<Figure size 432x288 with 1 Axes>"
      ]
     },
     "metadata": {
      "needs_background": "light"
     },
     "output_type": "display_data"
    }
   ],
   "source": [
    "#ploting the top 30 spam words\n",
    "sns.barplot(pd.DataFrame(Counter(spam_corpus).most_common(30))[0],pd.DataFrame(Counter(spam_corpus).most_common(30))[1])\n",
    "plt.xticks(rotation='vertical')\n",
    "plt.show()"
   ]
  },
  {
   "cell_type": "code",
   "execution_count": 94,
   "id": "bb459788",
   "metadata": {},
   "outputs": [],
   "source": [
    "#non spam\n",
    "ham_corpus = []\n",
    "for msg in df[df['target'] == 0]['transformed_text'].tolist():\n",
    "    for word in msg.split():\n",
    "        ham_corpus.append(word)"
   ]
  },
  {
   "cell_type": "code",
   "execution_count": 95,
   "id": "82198208",
   "metadata": {},
   "outputs": [
    {
     "data": {
      "text/plain": [
       "35304"
      ]
     },
     "execution_count": 95,
     "metadata": {},
     "output_type": "execute_result"
    }
   ],
   "source": [
    "len(ham_corpus)"
   ]
  },
  {
   "cell_type": "code",
   "execution_count": 96,
   "id": "0ff33801",
   "metadata": {},
   "outputs": [
    {
     "name": "stderr",
     "output_type": "stream",
     "text": [
      "C:\\Users\\Adithya\\anaconda3\\lib\\site-packages\\seaborn\\_decorators.py:36: FutureWarning: Pass the following variables as keyword args: x, y. From version 0.12, the only valid positional argument will be `data`, and passing other arguments without an explicit keyword will result in an error or misinterpretation.\n",
      "  warnings.warn(\n"
     ]
    },
    {
     "data": {
      "image/png": "[encoded data removed]",
      "text/plain": [
       "<Figure size 432x288 with 1 Axes>"
      ]
     },
     "metadata": {
      "needs_background": "light"
     },
     "output_type": "display_data"
    }
   ],
   "source": [
    "from collections import Counter\n",
    "sns.barplot(pd.DataFrame(Counter(ham_corpus).most_common(30))[0],pd.DataFrame(Counter(ham_corpus).most_common(30))[1])\n",
    "plt.xticks(rotation='vertical')\n",
    "plt.show()"
   ]
  },
  {
   "cell_type": "code",
   "execution_count": 97,
   "id": "469320c9",
   "metadata": {},
   "outputs": [
    {
     "data": {
      "text/html": [
       "<div>\n",
       "<style scoped>\n",
       "    .dataframe tbody tr th:only-of-type {\n",
       "        vertical-align: middle;\n",
       "    }\n",
       "\n",
       "    .dataframe tbody tr th {\n",
       "        vertical-align: top;\n",
       "    }\n",
       "\n",
       "    .dataframe thead th {\n",
       "        text-align: right;\n",
       "    }\n",
       "</style>\n",
       "<table border=\"1\" class=\"dataframe\">\n",
       "  <thead>\n",
       "    <tr style=\"text-align: right;\">\n",
       "      <th></th>\n",
       "      <th>target</th>\n",
       "      <th>text</th>\n",
       "      <th>num_characters</th>\n",
       "      <th>num_words</th>\n",
       "      <th>num_sentences</th>\n",
       "      <th>transformed_text</th>\n",
       "    </tr>\n",
       "  </thead>\n",
       "  <tbody>\n",
       "    <tr>\n",
       "      <th>0</th>\n",
       "      <td>0</td>\n",
       "      <td>Go until jurong point, crazy.. Available only ...</td>\n",
       "      <td>111</td>\n",
       "      <td>24</td>\n",
       "      <td>2</td>\n",
       "      <td>go jurong point crazi avail bugi n great world...</td>\n",
       "    </tr>\n",
       "    <tr>\n",
       "      <th>1</th>\n",
       "      <td>0</td>\n",
       "      <td>Ok lar... Joking wif u oni...</td>\n",
       "      <td>29</td>\n",
       "      <td>8</td>\n",
       "      <td>2</td>\n",
       "      <td>ok lar joke wif u oni</td>\n",
       "    </tr>\n",
       "    <tr>\n",
       "      <th>2</th>\n",
       "      <td>1</td>\n",
       "      <td>Free entry in 2 a wkly comp to win FA Cup fina...</td>\n",
       "      <td>155</td>\n",
       "      <td>37</td>\n",
       "      <td>2</td>\n",
       "      <td>free entri 2 wkli comp win fa cup final tkt 21...</td>\n",
       "    </tr>\n",
       "    <tr>\n",
       "      <th>3</th>\n",
       "      <td>0</td>\n",
       "      <td>U dun say so early hor... U c already then say...</td>\n",
       "      <td>49</td>\n",
       "      <td>13</td>\n",
       "      <td>1</td>\n",
       "      <td>u dun say earli hor u c alreadi say</td>\n",
       "    </tr>\n",
       "    <tr>\n",
       "      <th>4</th>\n",
       "      <td>0</td>\n",
       "      <td>Nah I don't think he goes to usf, he lives aro...</td>\n",
       "      <td>61</td>\n",
       "      <td>15</td>\n",
       "      <td>1</td>\n",
       "      <td>nah think goe usf live around though</td>\n",
       "    </tr>\n",
       "  </tbody>\n",
       "</table>\n",
       "</div>"
      ],
      "text/plain": [
       "   target                                               text  num_characters  \\\n",
       "0       0  Go until jurong point, crazy.. Available only ...             111   \n",
       "1       0                      Ok lar... Joking wif u oni...              29   \n",
       "2       1  Free entry in 2 a wkly comp to win FA Cup fina...             155   \n",
       "3       0  U dun say so early hor... U c already then say...              49   \n",
       "4       0  Nah I don't think he goes to usf, he lives aro...              61   \n",
       "\n",
       "   num_words  num_sentences                                   transformed_text  \n",
       "0         24              2  go jurong point crazi avail bugi n great world...  \n",
       "1          8              2                              ok lar joke wif u oni  \n",
       "2         37              2  free entri 2 wkli comp win fa cup final tkt 21...  \n",
       "3         13              1                u dun say earli hor u c alreadi say  \n",
       "4         15              1               nah think goe usf live around though  "
      ]
     },
     "execution_count": 97,
     "metadata": {},
     "output_type": "execute_result"
    }
   ],
   "source": [
    "df.head()"
   ]
  },
  {
   "cell_type": "markdown",
   "id": "06b47269",
   "metadata": {},
   "source": [
    "# 4. Model Building"
   ]
  },
  {
   "cell_type": "code",
   "execution_count": 122,
   "id": "f56066f9",
   "metadata": {},
   "outputs": [],
   "source": [
    "# we'll have to vectorize\n",
    "from sklearn.feature_extraction.text import CountVectorizer\n",
    "cv = CountVectorizer()"
   ]
  },
  {
   "cell_type": "code",
   "execution_count": 151,
   "id": "c9a7f4df",
   "metadata": {},
   "outputs": [],
   "source": [
    "#sparse df -> dense\n",
    "X = cv.fit_transform(df['transformed_text']).toarray()"
   ]
  },
  {
   "cell_type": "code",
   "execution_count": 152,
   "id": "245945fd",
   "metadata": {},
   "outputs": [
    {
     "data": {
      "text/plain": [
       "(5163, 6678)"
      ]
     },
     "execution_count": 152,
     "metadata": {},
     "output_type": "execute_result"
    }
   ],
   "source": [
    "X.shape\n",
    "#6678 words from 5163 words"
   ]
  },
  {
   "cell_type": "code",
   "execution_count": 106,
   "id": "0deb2085",
   "metadata": {},
   "outputs": [],
   "source": [
    "y = df['target'].values"
   ]
  },
  {
   "cell_type": "code",
   "execution_count": 108,
   "id": "bc93cb4b",
   "metadata": {},
   "outputs": [
    {
     "data": {
      "text/plain": [
       "array([0, 0, 1, ..., 0, 0, 0])"
      ]
     },
     "execution_count": 108,
     "metadata": {},
     "output_type": "execute_result"
    }
   ],
   "source": [
    "y"
   ]
  },
  {
   "cell_type": "code",
   "execution_count": 109,
   "id": "91317d8e",
   "metadata": {},
   "outputs": [],
   "source": [
    "from sklearn.model_selection import train_test_split"
   ]
  },
  {
   "cell_type": "code",
   "execution_count": 110,
   "id": "e7b3f816",
   "metadata": {},
   "outputs": [],
   "source": [
    "#splitting data into test and train(no CV)\n",
    "X_train,X_test,y_train,y_test = train_test_split(X,y,test_size=0.2,random_state=2)"
   ]
  },
  {
   "cell_type": "markdown",
   "id": "ad8a464f",
   "metadata": {},
   "source": [
    "### We're using Naive Bayes theorum\n",
    "learn more here **https://www.geeksforgeeks.org/naive-bayes-classifiers/**"
   ]
  },
  {
   "cell_type": "code",
   "execution_count": 114,
   "id": "5e7e9335",
   "metadata": {},
   "outputs": [],
   "source": [
    "#high presicion model, so reduction of false positives is imp\n",
    "from sklearn.naive_bayes import GaussianNB, MultinomialNB, BernoulliNB\n",
    "from sklearn.metrics import accuracy_score,confusion_matrix,precision_score"
   ]
  },
  {
   "cell_type": "code",
   "execution_count": 115,
   "id": "a2a0416f",
   "metadata": {},
   "outputs": [],
   "source": [
    "gnb = GaussianNB()\n",
    "mnb = MultinomialNB()\n",
    "bnb = BernoulliNB()"
   ]
  },
  {
   "cell_type": "code",
   "execution_count": 116,
   "id": "2f2892be",
   "metadata": {},
   "outputs": [
    {
     "name": "stdout",
     "output_type": "stream",
     "text": [
      "0.8664085188770572\n",
      "[[787 125]\n",
      " [ 13 108]]\n",
      "0.463519313304721\n"
     ]
    }
   ],
   "source": [
    "#GaussianNB\n",
    "gnb.fit(X_train,y_train)\n",
    "y_pred1 = gnb.predict(X_test)\n",
    "print(accuracy_score(y_test,y_pred1))\n",
    "print(confusion_matrix(y_test,y_pred1))\n",
    "print(precision_score(y_test,y_pred1))"
   ]
  },
  {
   "cell_type": "markdown",
   "id": "c4ba3b10",
   "metadata": {},
   "source": [
    "Gaussian Naive Bayes is performing very bad"
   ]
  },
  {
   "cell_type": "code",
   "execution_count": 117,
   "id": "138c3ac7",
   "metadata": {},
   "outputs": [
    {
     "name": "stdout",
     "output_type": "stream",
     "text": [
      "0.9757986447241046\n",
      "[[899  13]\n",
      " [ 12 109]]\n",
      "0.8934426229508197\n"
     ]
    }
   ],
   "source": [
    "#MultinomialNB\n",
    "mnb.fit(X_train,y_train)\n",
    "y_pred2 = mnb.predict(X_test)\n",
    "print(accuracy_score(y_test,y_pred2))\n",
    "print(confusion_matrix(y_test,y_pred2))\n",
    "print(precision_score(y_test,y_pred2))"
   ]
  },
  {
   "cell_type": "markdown",
   "id": "01028277",
   "metadata": {},
   "source": [
    "Multinomial Naive Bayes is a bit better with higher accuracy"
   ]
  },
  {
   "cell_type": "code",
   "execution_count": 118,
   "id": "1559ba61",
   "metadata": {},
   "outputs": [
    {
     "name": "stdout",
     "output_type": "stream",
     "text": [
      "0.9690222652468539\n",
      "[[908   4]\n",
      " [ 28  93]]\n",
      "0.9587628865979382\n"
     ]
    }
   ],
   "source": [
    "bnb.fit(X_train,y_train)\n",
    "y_pred3 = bnb.predict(X_test)\n",
    "print(accuracy_score(y_test,y_pred3))\n",
    "print(confusion_matrix(y_test,y_pred3))\n",
    "print(precision_score(y_test,y_pred3))"
   ]
  },
  {
   "cell_type": "markdown",
   "id": "0bf15adc",
   "metadata": {},
   "source": [
    "Bernolli Naive has the best precision score above"
   ]
  },
  {
   "attachments": {
    "image.png": {
     "image/png": "[encoded data removed]"
    }
   },
   "cell_type": "markdown",
   "id": "97921e25",
   "metadata": {},
   "source": [
    "#### Lets use another approach to vectorize text\n",
    "Instead of count vectorizer which just gives 1 and 0 as count lets used tf-idf which also gives the weight of words in the overall document\n",
    "here is an example\n",
    "![image.png](attachment:image.png)\n",
    "**learn more** - **https://medium.com/@cmukesh8688/tf-idf-vectorizer-scikit-learn-dbc0244a911a**"
   ]
  },
  {
   "cell_type": "code",
   "execution_count": 153,
   "id": "b6725778",
   "metadata": {},
   "outputs": [],
   "source": [
    "from sklearn.feature_extraction.text import TfidfVectorizer\n",
    "tfidf = TfidfVectorizer(max_features=3000)"
   ]
  },
  {
   "cell_type": "code",
   "execution_count": 154,
   "id": "fdb6859c",
   "metadata": {},
   "outputs": [],
   "source": [
    "X_2 = tfidf.fit_transform(df['transformed_text']).toarray()"
   ]
  },
  {
   "cell_type": "code",
   "execution_count": 155,
   "id": "c18cff5e",
   "metadata": {},
   "outputs": [
    {
     "data": {
      "text/plain": [
       "(5163, 3000)"
      ]
     },
     "execution_count": 155,
     "metadata": {},
     "output_type": "execute_result"
    }
   ],
   "source": [
    "X_2.shape"
   ]
  },
  {
   "cell_type": "code",
   "execution_count": 156,
   "id": "fd56de19",
   "metadata": {},
   "outputs": [],
   "source": [
    "X_train,X_test,y_train,y_test = train_test_split(X_2,y,test_size=0.2,random_state=2)"
   ]
  },
  {
   "cell_type": "code",
   "execution_count": 128,
   "id": "2ab30197",
   "metadata": {},
   "outputs": [
    {
     "name": "stdout",
     "output_type": "stream",
     "text": [
      "0.861568247821878\n",
      "[[784 128]\n",
      " [ 15 106]]\n",
      "0.452991452991453\n"
     ]
    }
   ],
   "source": [
    "gnb.fit(X_train,y_train)\n",
    "y_pred1 = gnb.predict(X_test)\n",
    "print(accuracy_score(y_test,y_pred1))\n",
    "print(confusion_matrix(y_test,y_pred1))\n",
    "print(precision_score(y_test,y_pred1))"
   ]
  },
  {
   "cell_type": "code",
   "execution_count": 129,
   "id": "c96f22ea",
   "metadata": {},
   "outputs": [
    {
     "name": "stdout",
     "output_type": "stream",
     "text": [
      "0.9719264278799613\n",
      "[[911   1]\n",
      " [ 28  93]]\n",
      "0.9893617021276596\n"
     ]
    }
   ],
   "source": [
    "mnb.fit(X_train,y_train)\n",
    "y_pred2 = mnb.predict(X_test)\n",
    "print(accuracy_score(y_test,y_pred2))\n",
    "print(confusion_matrix(y_test,y_pred2))\n",
    "print(precision_score(y_test,y_pred2))"
   ]
  },
  {
   "cell_type": "code",
   "execution_count": 130,
   "id": "14d2ca51",
   "metadata": {},
   "outputs": [
    {
     "name": "stdout",
     "output_type": "stream",
     "text": [
      "0.978702807357212\n",
      "[[909   3]\n",
      " [ 19 102]]\n",
      "0.9714285714285714\n"
     ]
    }
   ],
   "source": [
    "bnb.fit(X_train,y_train)\n",
    "y_pred3 = bnb.predict(X_test)\n",
    "print(accuracy_score(y_test,y_pred3))\n",
    "print(confusion_matrix(y_test,y_pred3))\n",
    "print(precision_score(y_test,y_pred3))"
   ]
  },
  {
   "cell_type": "markdown",
   "id": "562b2bea",
   "metadata": {},
   "source": [
    "### MNB is doing the best here"
   ]
  },
  {
   "cell_type": "code",
   "execution_count": 132,
   "id": "fff0e6a5",
   "metadata": {},
   "outputs": [
    {
     "name": "stdout",
     "output_type": "stream",
     "text": [
      "Collecting xgboost\n",
      "  Downloading xgboost-1.7.2-py3-none-win_amd64.whl (89.1 MB)\n",
      "Requirement already satisfied: numpy in c:\\users\\adithya\\anaconda3\\lib\\site-packages (from xgboost) (1.20.3)\n",
      "Requirement already satisfied: scipy in c:\\users\\adithya\\anaconda3\\lib\\site-packages (from xgboost) (1.7.1)\n",
      "Installing collected packages: xgboost\n",
      "Successfully installed xgboost-1.7.2\n"
     ]
    }
   ],
   "source": [
    "!pip3 install xgboost"
   ]
  },
  {
   "cell_type": "code",
   "execution_count": 135,
   "id": "a1833964",
   "metadata": {},
   "outputs": [],
   "source": [
    "#lets test all classification algorithms and see what is doing best\n",
    "from sklearn.linear_model import LogisticRegression\n",
    "#support vector classification\n",
    "from sklearn.svm import SVC\n",
    "from sklearn.naive_bayes import MultinomialNB\n",
    "from sklearn.tree import DecisionTreeClassifier\n",
    "from sklearn.ensemble import AdaBoostClassifier\n",
    "from sklearn.ensemble import BaggingClassifier\n",
    "from sklearn.neighbors import KNeighborsClassifier\n",
    "from sklearn.ensemble import RandomForestClassifier\n",
    "from sklearn.ensemble import ExtraTreesClassifier\n",
    "from sklearn.ensemble import GradientBoostingClassifier\n",
    "from xgboost import XGBClassifier"
   ]
  },
  {
   "cell_type": "code",
   "execution_count": 136,
   "id": "b9f9c97a",
   "metadata": {},
   "outputs": [],
   "source": [
    "svc = SVC(kernel='sigmoid', gamma=1.0)\n",
    "knc = KNeighborsClassifier()\n",
    "mnb = MultinomialNB()\n",
    "dtc = DecisionTreeClassifier(max_depth=5)\n",
    "lrc = LogisticRegression(solver='liblinear', penalty='l1')\n",
    "rfc = RandomForestClassifier(n_estimators=50, random_state=2)\n",
    "abc = AdaBoostClassifier(n_estimators=50, random_state=2)\n",
    "bc = BaggingClassifier(n_estimators=50, random_state=2)\n",
    "etc = ExtraTreesClassifier(n_estimators=50, random_state=2)\n",
    "gbdt = GradientBoostingClassifier(n_estimators=50,random_state=2)\n",
    "xgb = XGBClassifier(n_estimators=50,random_state=2)"
   ]
  },
  {
   "cell_type": "code",
   "execution_count": 137,
   "id": "b7d9b3ca",
   "metadata": {},
   "outputs": [],
   "source": [
    "# get all the values to a dictionary\n",
    "clfs = {\n",
    "    'SVC' : svc,\n",
    "    'KN' : knc, \n",
    "    'NB': mnb, \n",
    "    'DT': dtc, \n",
    "    'LR': lrc, \n",
    "    'RF': rfc, \n",
    "    'AdaBoost': abc, \n",
    "    'BgC': bc, \n",
    "    'ETC': etc,\n",
    "    'GBDT':gbdt,\n",
    "    'xgb':xgb\n",
    "}"
   ]
  },
  {
   "cell_type": "code",
   "execution_count": 138,
   "id": "f2345473",
   "metadata": {},
   "outputs": [],
   "source": [
    "def train_classifier(clf,X_train,y_train,X_test,y_test):\n",
    "    clf.fit(X_train,y_train)\n",
    "    y_pred = clf.predict(X_test)\n",
    "    accuracy = accuracy_score(y_test,y_pred)\n",
    "    precision = precision_score(y_test,y_pred)\n",
    "    \n",
    "    return accuracy,precision"
   ]
  },
  {
   "cell_type": "code",
   "execution_count": 139,
   "id": "7b77bbd8",
   "metadata": {},
   "outputs": [
    {
     "name": "stdout",
     "output_type": "stream",
     "text": [
      "For  SVC\n",
      "Accuracy -  0.978702807357212\n",
      "Precision -  0.9805825242718447\n",
      "For  KN\n",
      "Accuracy -  0.9215876089060987\n",
      "Precision -  1.0\n",
      "For  NB\n",
      "Accuracy -  0.9719264278799613\n",
      "Precision -  0.9893617021276596\n",
      "For  DT\n",
      "Accuracy -  0.9351403678606002\n",
      "Precision -  0.8068181818181818\n",
      "For  LR\n",
      "Accuracy -  0.9554695062923524\n",
      "Precision -  0.9310344827586207\n",
      "For  RF\n",
      "Accuracy -  0.972894482090997\n",
      "Precision -  0.979381443298969\n",
      "For  AdaBoost\n",
      "Accuracy -  0.9622458857696031\n",
      "Precision -  0.9270833333333334\n",
      "For  BgC\n",
      "Accuracy -  0.9641819941916747\n",
      "Precision -  0.868421052631579\n",
      "For  ETC\n",
      "Accuracy -  0.9777347531461762\n",
      "Precision -  0.9803921568627451\n",
      "For  GBDT\n",
      "Accuracy -  0.9535333978702807\n",
      "Precision -  0.9397590361445783\n",
      "For  xgb\n",
      "Accuracy -  0.9622458857696031\n",
      "Precision -  0.91\n"
     ]
    }
   ],
   "source": [
    "#training all the algorithms \n",
    "accuracy_scores = []\n",
    "precision_scores = []\n",
    "\n",
    "for name,clf in clfs.items():\n",
    "    \n",
    "    current_accuracy,current_precision = train_classifier(clf, X_train,y_train,X_test,y_test)\n",
    "    \n",
    "    print(\"For \",name)\n",
    "    print(\"Accuracy - \",current_accuracy)\n",
    "    print(\"Precision - \",current_precision)\n",
    "    \n",
    "    accuracy_scores.append(current_accuracy)\n",
    "    precision_scores.append(current_precision)"
   ]
  },
  {
   "cell_type": "code",
   "execution_count": 140,
   "id": "12e398aa",
   "metadata": {},
   "outputs": [],
   "source": [
    "performance_df = pd.DataFrame({'Algorithm':clfs.keys(),'Accuracy':accuracy_scores,'Precision':precision_scores}).sort_values('Precision',ascending=False)"
   ]
  },
  {
   "cell_type": "code",
   "execution_count": 141,
   "id": "4f21b61f",
   "metadata": {},
   "outputs": [
    {
     "data": {
      "text/html": [
       "<div>\n",
       "<style scoped>\n",
       "    .dataframe tbody tr th:only-of-type {\n",
       "        vertical-align: middle;\n",
       "    }\n",
       "\n",
       "    .dataframe tbody tr th {\n",
       "        vertical-align: top;\n",
       "    }\n",
       "\n",
       "    .dataframe thead th {\n",
       "        text-align: right;\n",
       "    }\n",
       "</style>\n",
       "<table border=\"1\" class=\"dataframe\">\n",
       "  <thead>\n",
       "    <tr style=\"text-align: right;\">\n",
       "      <th></th>\n",
       "      <th>Algorithm</th>\n",
       "      <th>Accuracy</th>\n",
       "      <th>Precision</th>\n",
       "    </tr>\n",
       "  </thead>\n",
       "  <tbody>\n",
       "    <tr>\n",
       "      <th>1</th>\n",
       "      <td>KN</td>\n",
       "      <td>0.921588</td>\n",
       "      <td>1.000000</td>\n",
       "    </tr>\n",
       "    <tr>\n",
       "      <th>2</th>\n",
       "      <td>NB</td>\n",
       "      <td>0.971926</td>\n",
       "      <td>0.989362</td>\n",
       "    </tr>\n",
       "    <tr>\n",
       "      <th>0</th>\n",
       "      <td>SVC</td>\n",
       "      <td>0.978703</td>\n",
       "      <td>0.980583</td>\n",
       "    </tr>\n",
       "    <tr>\n",
       "      <th>8</th>\n",
       "      <td>ETC</td>\n",
       "      <td>0.977735</td>\n",
       "      <td>0.980392</td>\n",
       "    </tr>\n",
       "    <tr>\n",
       "      <th>5</th>\n",
       "      <td>RF</td>\n",
       "      <td>0.972894</td>\n",
       "      <td>0.979381</td>\n",
       "    </tr>\n",
       "    <tr>\n",
       "      <th>9</th>\n",
       "      <td>GBDT</td>\n",
       "      <td>0.953533</td>\n",
       "      <td>0.939759</td>\n",
       "    </tr>\n",
       "    <tr>\n",
       "      <th>4</th>\n",
       "      <td>LR</td>\n",
       "      <td>0.955470</td>\n",
       "      <td>0.931034</td>\n",
       "    </tr>\n",
       "    <tr>\n",
       "      <th>6</th>\n",
       "      <td>AdaBoost</td>\n",
       "      <td>0.962246</td>\n",
       "      <td>0.927083</td>\n",
       "    </tr>\n",
       "    <tr>\n",
       "      <th>10</th>\n",
       "      <td>xgb</td>\n",
       "      <td>0.962246</td>\n",
       "      <td>0.910000</td>\n",
       "    </tr>\n",
       "    <tr>\n",
       "      <th>7</th>\n",
       "      <td>BgC</td>\n",
       "      <td>0.964182</td>\n",
       "      <td>0.868421</td>\n",
       "    </tr>\n",
       "    <tr>\n",
       "      <th>3</th>\n",
       "      <td>DT</td>\n",
       "      <td>0.935140</td>\n",
       "      <td>0.806818</td>\n",
       "    </tr>\n",
       "  </tbody>\n",
       "</table>\n",
       "</div>"
      ],
      "text/plain": [
       "   Algorithm  Accuracy  Precision\n",
       "1         KN  0.921588   1.000000\n",
       "2         NB  0.971926   0.989362\n",
       "0        SVC  0.978703   0.980583\n",
       "8        ETC  0.977735   0.980392\n",
       "5         RF  0.972894   0.979381\n",
       "9       GBDT  0.953533   0.939759\n",
       "4         LR  0.955470   0.931034\n",
       "6   AdaBoost  0.962246   0.927083\n",
       "10       xgb  0.962246   0.910000\n",
       "7        BgC  0.964182   0.868421\n",
       "3         DT  0.935140   0.806818"
      ]
     },
     "execution_count": 141,
     "metadata": {},
     "output_type": "execute_result"
    }
   ],
   "source": [
    "performance_df"
   ]
  },
  {
   "cell_type": "markdown",
   "id": "ff6bf281",
   "metadata": {},
   "source": [
    "### Naive Bayes is doing the best with accuracy and precision\n"
   ]
  },
  {
   "cell_type": "markdown",
   "id": "c5691c0c",
   "metadata": {},
   "source": [
    "## Let's try Voting Classifier\n",
    "\n",
    "**A Voting Classifier is a machine learning model that trains on an ensemble of numerous models and predicts an output (class) based on their highest probability of chosen class as the output.**\n",
    "It simply aggregates the findings of each classifier passed into Voting Classifier and predicts the output class based on the highest majority of voting. The idea is instead of creating separate dedicated models and finding the accuracy for each them, we create a single model which trains by these models and predicts output based on their combined majority of voting for each output class.\n",
    "\n",
    "Voting Classifier supports two types of votings.\n",
    "\n",
    "### Hard Voting:\n",
    "In hard voting, the predicted output class is a class with the highest majority of votes i.e the class which had the highest probability of being predicted by each of the classifiers. Suppose three classifiers predicted the output class(A, A, B), so here the majority predicted A as output. Hence A will be the final prediction.\n",
    "### Soft Voting:\n",
    "In soft voting, the output class is the prediction based on the average of probability given to that class. Suppose given some input to three models, the prediction probability for class A = (0.30, 0.47, 0.53) and B = (0.20, 0.32, 0.40). So the average for class A is 0.4333 and B is 0.3067, the winner is clearly class A because it had the highest probability averaged by each classifier.\n",
    "\n",
    "**learn more** - **https://www.geeksforgeeks.org/ml-voting-classifier-using-sklearn/**"
   ]
  },
  {
   "cell_type": "code",
   "execution_count": 157,
   "id": "0b12c978",
   "metadata": {},
   "outputs": [],
   "source": [
    "# Voting Classifier\n",
    "svc = SVC(kernel='sigmoid', gamma=1.0,probability=True)\n",
    "mnb = MultinomialNB()\n",
    "knc = KNeighborsClassifier()\n",
    "\n",
    "from sklearn.ensemble import VotingClassifier"
   ]
  },
  {
   "cell_type": "code",
   "execution_count": 158,
   "id": "78d68a33",
   "metadata": {},
   "outputs": [],
   "source": [
    "voting = VotingClassifier(estimators=[('svm', svc), ('nb', mnb), ('kn', knc)])"
   ]
  },
  {
   "cell_type": "code",
   "execution_count": 159,
   "id": "c927e26d",
   "metadata": {},
   "outputs": [
    {
     "data": {
      "text/plain": [
       "VotingClassifier(estimators=[('svm',\n",
       "                              SVC(gamma=1.0, kernel='sigmoid',\n",
       "                                  probability=True)),\n",
       "                             ('nb', MultinomialNB()),\n",
       "                             ('kn', KNeighborsClassifier())])"
      ]
     },
     "execution_count": 159,
     "metadata": {},
     "output_type": "execute_result"
    }
   ],
   "source": [
    "voting.fit(X_train,y_train)"
   ]
  },
  {
   "cell_type": "code",
   "execution_count": 160,
   "id": "0c0b0411",
   "metadata": {},
   "outputs": [
    {
     "name": "stdout",
     "output_type": "stream",
     "text": [
      "Accuracy 0.9748305905130688\n",
      "Precision 1.0\n"
     ]
    }
   ],
   "source": [
    "#hard voting\n",
    "y_pred = voting.predict(X_test)\n",
    "print(\"Accuracy\",accuracy_score(y_test,y_pred))\n",
    "print(\"Precision\",precision_score(y_test,y_pred))"
   ]
  },
  {
   "cell_type": "code",
   "execution_count": 148,
   "id": "f88c696b",
   "metadata": {},
   "outputs": [
    {
     "name": "stdout",
     "output_type": "stream",
     "text": [
      "Accuracy 0.9719264278799613\n",
      "Precision 0.9893617021276596\n"
     ]
    }
   ],
   "source": [
    "#soft voting\n",
    "y_pred = voting.predict(X_test)\n",
    "print(\"Accuracy\",accuracy_score(y_test,y_pred))\n",
    "print(\"Precision\",precision_score(y_test,y_pred))"
   ]
  },
  {
   "cell_type": "markdown",
   "id": "9c1be1b2",
   "metadata": {},
   "source": [
    "## Hard voting seems to best till now\n",
    "Lets train it."
   ]
  },
  {
   "cell_type": "code",
   "execution_count": 161,
   "id": "2b828362",
   "metadata": {},
   "outputs": [],
   "source": [
    "import pickle\n",
    "pickle.dump(tfidf,open('vectorizer.pkl','wb'))\n",
    "pickle.dump(voting,open('model.pkl','wb'))"
   ]
  },
  {
   "cell_type": "code",
   "execution_count": null,
   "id": "bd179653",
   "metadata": {},
   "outputs": [],
   "source": []
  },
  {
   "cell_type": "code",
   "execution_count": null,
   "id": "ab43df87",
   "metadata": {},
   "outputs": [],
   "source": []
  }
 ],
 "metadata": {
  "kernelspec": {
   "display_name": "Python 3 (ipykernel)",
   "language": "python",
   "name": "python3"
  },
  "language_info": {
   "codemirror_mode": {
    "name": "ipython",
    "version": 3
   },
   "file_extension": ".py",
   "mimetype": "text/x-python",
   "name": "python",
   "nbconvert_exporter": "python",
   "pygments_lexer": "ipython3",
   "version": "3.9.7"
  }
 },
 "nbformat": 4,
 "nbformat_minor": 5
}
